{
  "nbformat": 4,
  "nbformat_minor": 0,
  "metadata": {
    "colab": {
      "name": "Week 7_Marion_Ndungu.ipynb",
      "provenance": [],
      "collapsed_sections": []
    },
    "kernelspec": {
      "name": "python3",
      "display_name": "Python 3"
    }
  },
  "cells": [
    {
      "cell_type": "markdown",
      "metadata": {
        "id": "uCDESJWCkAE-",
        "colab_type": "text"
      },
      "source": [
        "**Defining the Question.**\n",
        "\n",
        "**a) Specifying the Question**\n",
        "\n",
        "You have been tasked to study the factors that affect housing prices using the given information on real estate properties that was collected over the past few months. Later onwards, create a model that would allow the company to accurately predict the sale of prices upon being provided with the predictor variables\n",
        "\n",
        "\n",
        "**b) Defining the Metric for Success**\n",
        "\n",
        "Analyze the data. Normalize the data.Create models to depict accuracy.\n",
        "\n",
        "**c) Understanding the context**\n",
        "\n",
        "The data contains one dataset with the prices of houses from 1900 to 2015. It has 20 columns that contain variables that will be used to predict sale of prices of the houses\n",
        "\n",
        "Task to predict the sale of prices (houses) in the near future.\n",
        "\n",
        "**d) Recording the Experimental Design**\n",
        "\n",
        "(CRISP- DM) \n",
        "\n",
        "Data mining\n",
        "\n",
        "Understanding the data\n",
        "\n",
        "Clean the data\n",
        "\n",
        "Explore the data\n",
        "\n",
        "Create models\n",
        "\n",
        "Evaluate model perfomance"
      ]
    },
    {
      "cell_type": "code",
      "metadata": {
        "id": "s9cqaijAAWiX",
        "colab_type": "code",
        "colab": {}
      },
      "source": [
        "import pandas as pd\n",
        "import numpy as np\n",
        "import scipy as sp\n",
        "\n",
        "import matplotlib.pyplot as plt\n",
        "%matplotlib inline\n",
        "\n",
        "#import seaborn libraries\n",
        "import seaborn as sns\n",
        "from sklearn.model_selection import train_test_split\n",
        "from sklearn import metrics\n",
        "from sklearn.preprocessing import PolynomialFeatures\n",
        "from sklearn.model_selection import train_test_split\n",
        "from sklearn.linear_model import LinearRegression, LogisticRegression\n",
        "from sklearn.metrics import mean_squared_error,  r2_score\n",
        "from sklearn.decomposition import PCA\n",
        "from sklearn.model_selection import KFold, LeaveOneOut\n",
        "from sklearn.model_selection import GridSearchCV\n",
        "from sklearn.preprocessing import LabelEncoder\n",
        "from sklearn.preprocessing import PolynomialFeatures\n",
        "from sklearn.preprocessing import StandardScaler\n",
        "from sklearn.linear_model import Ridge, Lasso, ElasticNet\n",
        "from sklearn.metrics import accuracy_score, confusion_matrix, f1_score, recall_score, precision_score\n",
        "\n"
      ],
      "execution_count": 0,
      "outputs": []
    },
    {
      "cell_type": "code",
      "metadata": {
        "id": "D-6JB2wADA6B",
        "colab_type": "code",
        "colab": {}
      },
      "source": [
        "#loading the house dataset\n",
        "house = pd.read_csv('/content/Independent Project Week 7 - house_data.csv')"
      ],
      "execution_count": 0,
      "outputs": []
    },
    {
      "cell_type": "code",
      "metadata": {
        "id": "kfIpTuDTDgjg",
        "colab_type": "code",
        "outputId": "83ba15d1-cf26-4e39-e1c2-edc6f2b717ea",
        "colab": {
          "base_uri": "https://localhost:8080/",
          "height": 223
        }
      },
      "source": [
        "#loading the 1st five rows\n",
        "house.head(5)"
      ],
      "execution_count": 0,
      "outputs": [
        {
          "output_type": "execute_result",
          "data": {
            "text/html": [
              "<div>\n",
              "<style scoped>\n",
              "    .dataframe tbody tr th:only-of-type {\n",
              "        vertical-align: middle;\n",
              "    }\n",
              "\n",
              "    .dataframe tbody tr th {\n",
              "        vertical-align: top;\n",
              "    }\n",
              "\n",
              "    .dataframe thead th {\n",
              "        text-align: right;\n",
              "    }\n",
              "</style>\n",
              "<table border=\"1\" class=\"dataframe\">\n",
              "  <thead>\n",
              "    <tr style=\"text-align: right;\">\n",
              "      <th></th>\n",
              "      <th>id</th>\n",
              "      <th>price</th>\n",
              "      <th>bedrooms</th>\n",
              "      <th>bathrooms</th>\n",
              "      <th>sqft_living</th>\n",
              "      <th>sqft_lot</th>\n",
              "      <th>floors</th>\n",
              "      <th>waterfront</th>\n",
              "      <th>view</th>\n",
              "      <th>condition</th>\n",
              "      <th>grade</th>\n",
              "      <th>sqft_above</th>\n",
              "      <th>sqft_basement</th>\n",
              "      <th>yr_built</th>\n",
              "      <th>yr_renovated</th>\n",
              "      <th>zipcode</th>\n",
              "      <th>lat</th>\n",
              "      <th>long</th>\n",
              "      <th>sqft_living15</th>\n",
              "      <th>sqft_lot15</th>\n",
              "    </tr>\n",
              "  </thead>\n",
              "  <tbody>\n",
              "    <tr>\n",
              "      <th>0</th>\n",
              "      <td>7129300520</td>\n",
              "      <td>221900.0</td>\n",
              "      <td>3</td>\n",
              "      <td>1.00</td>\n",
              "      <td>1180</td>\n",
              "      <td>5650</td>\n",
              "      <td>1.0</td>\n",
              "      <td>0</td>\n",
              "      <td>0</td>\n",
              "      <td>3</td>\n",
              "      <td>7</td>\n",
              "      <td>1180</td>\n",
              "      <td>0</td>\n",
              "      <td>1955</td>\n",
              "      <td>0</td>\n",
              "      <td>98178</td>\n",
              "      <td>47.5112</td>\n",
              "      <td>-122.257</td>\n",
              "      <td>1340</td>\n",
              "      <td>5650</td>\n",
              "    </tr>\n",
              "    <tr>\n",
              "      <th>1</th>\n",
              "      <td>6414100192</td>\n",
              "      <td>538000.0</td>\n",
              "      <td>3</td>\n",
              "      <td>2.25</td>\n",
              "      <td>2570</td>\n",
              "      <td>7242</td>\n",
              "      <td>2.0</td>\n",
              "      <td>0</td>\n",
              "      <td>0</td>\n",
              "      <td>3</td>\n",
              "      <td>7</td>\n",
              "      <td>2170</td>\n",
              "      <td>400</td>\n",
              "      <td>1951</td>\n",
              "      <td>1991</td>\n",
              "      <td>98125</td>\n",
              "      <td>47.7210</td>\n",
              "      <td>-122.319</td>\n",
              "      <td>1690</td>\n",
              "      <td>7639</td>\n",
              "    </tr>\n",
              "    <tr>\n",
              "      <th>2</th>\n",
              "      <td>5631500400</td>\n",
              "      <td>180000.0</td>\n",
              "      <td>2</td>\n",
              "      <td>1.00</td>\n",
              "      <td>770</td>\n",
              "      <td>10000</td>\n",
              "      <td>1.0</td>\n",
              "      <td>0</td>\n",
              "      <td>0</td>\n",
              "      <td>3</td>\n",
              "      <td>6</td>\n",
              "      <td>770</td>\n",
              "      <td>0</td>\n",
              "      <td>1933</td>\n",
              "      <td>0</td>\n",
              "      <td>98028</td>\n",
              "      <td>47.7379</td>\n",
              "      <td>-122.233</td>\n",
              "      <td>2720</td>\n",
              "      <td>8062</td>\n",
              "    </tr>\n",
              "    <tr>\n",
              "      <th>3</th>\n",
              "      <td>2487200875</td>\n",
              "      <td>604000.0</td>\n",
              "      <td>4</td>\n",
              "      <td>3.00</td>\n",
              "      <td>1960</td>\n",
              "      <td>5000</td>\n",
              "      <td>1.0</td>\n",
              "      <td>0</td>\n",
              "      <td>0</td>\n",
              "      <td>5</td>\n",
              "      <td>7</td>\n",
              "      <td>1050</td>\n",
              "      <td>910</td>\n",
              "      <td>1965</td>\n",
              "      <td>0</td>\n",
              "      <td>98136</td>\n",
              "      <td>47.5208</td>\n",
              "      <td>-122.393</td>\n",
              "      <td>1360</td>\n",
              "      <td>5000</td>\n",
              "    </tr>\n",
              "    <tr>\n",
              "      <th>4</th>\n",
              "      <td>1954400510</td>\n",
              "      <td>510000.0</td>\n",
              "      <td>3</td>\n",
              "      <td>2.00</td>\n",
              "      <td>1680</td>\n",
              "      <td>8080</td>\n",
              "      <td>1.0</td>\n",
              "      <td>0</td>\n",
              "      <td>0</td>\n",
              "      <td>3</td>\n",
              "      <td>8</td>\n",
              "      <td>1680</td>\n",
              "      <td>0</td>\n",
              "      <td>1987</td>\n",
              "      <td>0</td>\n",
              "      <td>98074</td>\n",
              "      <td>47.6168</td>\n",
              "      <td>-122.045</td>\n",
              "      <td>1800</td>\n",
              "      <td>7503</td>\n",
              "    </tr>\n",
              "  </tbody>\n",
              "</table>\n",
              "</div>"
            ],
            "text/plain": [
              "           id     price  bedrooms  ...     long  sqft_living15  sqft_lot15\n",
              "0  7129300520  221900.0         3  ... -122.257           1340        5650\n",
              "1  6414100192  538000.0         3  ... -122.319           1690        7639\n",
              "2  5631500400  180000.0         2  ... -122.233           2720        8062\n",
              "3  2487200875  604000.0         4  ... -122.393           1360        5000\n",
              "4  1954400510  510000.0         3  ... -122.045           1800        7503\n",
              "\n",
              "[5 rows x 20 columns]"
            ]
          },
          "metadata": {
            "tags": []
          },
          "execution_count": 3
        }
      ]
    },
    {
      "cell_type": "code",
      "metadata": {
        "id": "1tSado15EXwu",
        "colab_type": "code",
        "outputId": "7c6a18a0-e08b-4ce5-cd9a-b2083fd3fa37",
        "colab": {
          "base_uri": "https://localhost:8080/",
          "height": 223
        }
      },
      "source": [
        "#loading the last five rows\n",
        "house.tail(5)"
      ],
      "execution_count": 0,
      "outputs": [
        {
          "output_type": "execute_result",
          "data": {
            "text/html": [
              "<div>\n",
              "<style scoped>\n",
              "    .dataframe tbody tr th:only-of-type {\n",
              "        vertical-align: middle;\n",
              "    }\n",
              "\n",
              "    .dataframe tbody tr th {\n",
              "        vertical-align: top;\n",
              "    }\n",
              "\n",
              "    .dataframe thead th {\n",
              "        text-align: right;\n",
              "    }\n",
              "</style>\n",
              "<table border=\"1\" class=\"dataframe\">\n",
              "  <thead>\n",
              "    <tr style=\"text-align: right;\">\n",
              "      <th></th>\n",
              "      <th>id</th>\n",
              "      <th>price</th>\n",
              "      <th>bedrooms</th>\n",
              "      <th>bathrooms</th>\n",
              "      <th>sqft_living</th>\n",
              "      <th>sqft_lot</th>\n",
              "      <th>floors</th>\n",
              "      <th>waterfront</th>\n",
              "      <th>view</th>\n",
              "      <th>condition</th>\n",
              "      <th>grade</th>\n",
              "      <th>sqft_above</th>\n",
              "      <th>sqft_basement</th>\n",
              "      <th>yr_built</th>\n",
              "      <th>yr_renovated</th>\n",
              "      <th>zipcode</th>\n",
              "      <th>lat</th>\n",
              "      <th>long</th>\n",
              "      <th>sqft_living15</th>\n",
              "      <th>sqft_lot15</th>\n",
              "    </tr>\n",
              "  </thead>\n",
              "  <tbody>\n",
              "    <tr>\n",
              "      <th>21608</th>\n",
              "      <td>263000018</td>\n",
              "      <td>360000.0</td>\n",
              "      <td>3</td>\n",
              "      <td>2.50</td>\n",
              "      <td>1530</td>\n",
              "      <td>1131</td>\n",
              "      <td>3.0</td>\n",
              "      <td>0</td>\n",
              "      <td>0</td>\n",
              "      <td>3</td>\n",
              "      <td>8</td>\n",
              "      <td>1530</td>\n",
              "      <td>0</td>\n",
              "      <td>2009</td>\n",
              "      <td>0</td>\n",
              "      <td>98103</td>\n",
              "      <td>47.6993</td>\n",
              "      <td>-122.346</td>\n",
              "      <td>1530</td>\n",
              "      <td>1509</td>\n",
              "    </tr>\n",
              "    <tr>\n",
              "      <th>21609</th>\n",
              "      <td>6600060120</td>\n",
              "      <td>400000.0</td>\n",
              "      <td>4</td>\n",
              "      <td>2.50</td>\n",
              "      <td>2310</td>\n",
              "      <td>5813</td>\n",
              "      <td>2.0</td>\n",
              "      <td>0</td>\n",
              "      <td>0</td>\n",
              "      <td>3</td>\n",
              "      <td>8</td>\n",
              "      <td>2310</td>\n",
              "      <td>0</td>\n",
              "      <td>2014</td>\n",
              "      <td>0</td>\n",
              "      <td>98146</td>\n",
              "      <td>47.5107</td>\n",
              "      <td>-122.362</td>\n",
              "      <td>1830</td>\n",
              "      <td>7200</td>\n",
              "    </tr>\n",
              "    <tr>\n",
              "      <th>21610</th>\n",
              "      <td>1523300141</td>\n",
              "      <td>402101.0</td>\n",
              "      <td>2</td>\n",
              "      <td>0.75</td>\n",
              "      <td>1020</td>\n",
              "      <td>1350</td>\n",
              "      <td>2.0</td>\n",
              "      <td>0</td>\n",
              "      <td>0</td>\n",
              "      <td>3</td>\n",
              "      <td>7</td>\n",
              "      <td>1020</td>\n",
              "      <td>0</td>\n",
              "      <td>2009</td>\n",
              "      <td>0</td>\n",
              "      <td>98144</td>\n",
              "      <td>47.5944</td>\n",
              "      <td>-122.299</td>\n",
              "      <td>1020</td>\n",
              "      <td>2007</td>\n",
              "    </tr>\n",
              "    <tr>\n",
              "      <th>21611</th>\n",
              "      <td>291310100</td>\n",
              "      <td>400000.0</td>\n",
              "      <td>3</td>\n",
              "      <td>2.50</td>\n",
              "      <td>1600</td>\n",
              "      <td>2388</td>\n",
              "      <td>2.0</td>\n",
              "      <td>0</td>\n",
              "      <td>0</td>\n",
              "      <td>3</td>\n",
              "      <td>8</td>\n",
              "      <td>1600</td>\n",
              "      <td>0</td>\n",
              "      <td>2004</td>\n",
              "      <td>0</td>\n",
              "      <td>98027</td>\n",
              "      <td>47.5345</td>\n",
              "      <td>-122.069</td>\n",
              "      <td>1410</td>\n",
              "      <td>1287</td>\n",
              "    </tr>\n",
              "    <tr>\n",
              "      <th>21612</th>\n",
              "      <td>1523300157</td>\n",
              "      <td>325000.0</td>\n",
              "      <td>2</td>\n",
              "      <td>0.75</td>\n",
              "      <td>1020</td>\n",
              "      <td>1076</td>\n",
              "      <td>2.0</td>\n",
              "      <td>0</td>\n",
              "      <td>0</td>\n",
              "      <td>3</td>\n",
              "      <td>7</td>\n",
              "      <td>1020</td>\n",
              "      <td>0</td>\n",
              "      <td>2008</td>\n",
              "      <td>0</td>\n",
              "      <td>98144</td>\n",
              "      <td>47.5941</td>\n",
              "      <td>-122.299</td>\n",
              "      <td>1020</td>\n",
              "      <td>1357</td>\n",
              "    </tr>\n",
              "  </tbody>\n",
              "</table>\n",
              "</div>"
            ],
            "text/plain": [
              "               id     price  bedrooms  ...     long  sqft_living15  sqft_lot15\n",
              "21608   263000018  360000.0         3  ... -122.346           1530        1509\n",
              "21609  6600060120  400000.0         4  ... -122.362           1830        7200\n",
              "21610  1523300141  402101.0         2  ... -122.299           1020        2007\n",
              "21611   291310100  400000.0         3  ... -122.069           1410        1287\n",
              "21612  1523300157  325000.0         2  ... -122.299           1020        1357\n",
              "\n",
              "[5 rows x 20 columns]"
            ]
          },
          "metadata": {
            "tags": []
          },
          "execution_count": 4
        }
      ]
    },
    {
      "cell_type": "code",
      "metadata": {
        "id": "aY0IlUQGEuKJ",
        "colab_type": "code",
        "outputId": "09665cac-6171-46ed-fffa-6ad4c8fda2f8",
        "colab": {
          "base_uri": "https://localhost:8080/",
          "height": 379
        }
      },
      "source": [
        "#checking for the data types\n",
        "house.dtypes"
      ],
      "execution_count": 0,
      "outputs": [
        {
          "output_type": "execute_result",
          "data": {
            "text/plain": [
              "id                 int64\n",
              "price            float64\n",
              "bedrooms           int64\n",
              "bathrooms        float64\n",
              "sqft_living        int64\n",
              "sqft_lot           int64\n",
              "floors           float64\n",
              "waterfront         int64\n",
              "view               int64\n",
              "condition          int64\n",
              "grade              int64\n",
              "sqft_above         int64\n",
              "sqft_basement      int64\n",
              "yr_built           int64\n",
              "yr_renovated       int64\n",
              "zipcode            int64\n",
              "lat              float64\n",
              "long             float64\n",
              "sqft_living15      int64\n",
              "sqft_lot15         int64\n",
              "dtype: object"
            ]
          },
          "metadata": {
            "tags": []
          },
          "execution_count": 5
        }
      ]
    },
    {
      "cell_type": "code",
      "metadata": {
        "id": "S23wcjJcIbNs",
        "colab_type": "code",
        "outputId": "c53091b2-81b0-4388-c1e3-b66cc8941a1f",
        "colab": {
          "base_uri": "https://localhost:8080/",
          "height": 258
        }
      },
      "source": [
        "house.info"
      ],
      "execution_count": 0,
      "outputs": [
        {
          "output_type": "execute_result",
          "data": {
            "text/plain": [
              "<bound method DataFrame.info of                id     price  bedrooms  ...     long  sqft_living15  sqft_lot15\n",
              "0      7129300520  221900.0         3  ... -122.257           1340        5650\n",
              "1      6414100192  538000.0         3  ... -122.319           1690        7639\n",
              "2      5631500400  180000.0         2  ... -122.233           2720        8062\n",
              "3      2487200875  604000.0         4  ... -122.393           1360        5000\n",
              "4      1954400510  510000.0         3  ... -122.045           1800        7503\n",
              "...           ...       ...       ...  ...      ...            ...         ...\n",
              "21608   263000018  360000.0         3  ... -122.346           1530        1509\n",
              "21609  6600060120  400000.0         4  ... -122.362           1830        7200\n",
              "21610  1523300141  402101.0         2  ... -122.299           1020        2007\n",
              "21611   291310100  400000.0         3  ... -122.069           1410        1287\n",
              "21612  1523300157  325000.0         2  ... -122.299           1020        1357\n",
              "\n",
              "[21613 rows x 20 columns]>"
            ]
          },
          "metadata": {
            "tags": []
          },
          "execution_count": 6
        }
      ]
    },
    {
      "cell_type": "code",
      "metadata": {
        "id": "YDO73_pPJkt1",
        "colab_type": "code",
        "outputId": "b2669843-5414-4626-92d8-be8511cd4b87",
        "colab": {
          "base_uri": "https://localhost:8080/",
          "height": 34
        }
      },
      "source": [
        "house.shape"
      ],
      "execution_count": 0,
      "outputs": [
        {
          "output_type": "execute_result",
          "data": {
            "text/plain": [
              "(21613, 20)"
            ]
          },
          "metadata": {
            "tags": []
          },
          "execution_count": 7
        }
      ]
    },
    {
      "cell_type": "code",
      "metadata": {
        "id": "GpT_irKQJk76",
        "colab_type": "code",
        "outputId": "92dc4430-68ef-4d10-c2b9-007e48a987a5",
        "colab": {
          "base_uri": "https://localhost:8080/",
          "height": 379
        }
      },
      "source": [
        "#Check missing values\n",
        "house.isnull().sum()"
      ],
      "execution_count": 0,
      "outputs": [
        {
          "output_type": "execute_result",
          "data": {
            "text/plain": [
              "id               0\n",
              "price            0\n",
              "bedrooms         0\n",
              "bathrooms        0\n",
              "sqft_living      0\n",
              "sqft_lot         0\n",
              "floors           0\n",
              "waterfront       0\n",
              "view             0\n",
              "condition        0\n",
              "grade            0\n",
              "sqft_above       0\n",
              "sqft_basement    0\n",
              "yr_built         0\n",
              "yr_renovated     0\n",
              "zipcode          0\n",
              "lat              0\n",
              "long             0\n",
              "sqft_living15    0\n",
              "sqft_lot15       0\n",
              "dtype: int64"
            ]
          },
          "metadata": {
            "tags": []
          },
          "execution_count": 8
        }
      ]
    },
    {
      "cell_type": "markdown",
      "metadata": {
        "id": "n9_kKcF1g200",
        "colab_type": "text"
      },
      "source": [
        ""
      ]
    },
    {
      "cell_type": "markdown",
      "metadata": {
        "id": "ImSkdURtRBFF",
        "colab_type": "text"
      },
      "source": [
        "**EDA ANALYSIS**"
      ]
    },
    {
      "cell_type": "code",
      "metadata": {
        "id": "4GPNyWvTRGAd",
        "colab_type": "code",
        "outputId": "d74aefcf-68f1-4d9f-ab8c-b532da1e5cba",
        "colab": {
          "base_uri": "https://localhost:8080/",
          "height": 34
        }
      },
      "source": [
        "#Checking for duplicates\n",
        "house.duplicated().sum()"
      ],
      "execution_count": 0,
      "outputs": [
        {
          "output_type": "execute_result",
          "data": {
            "text/plain": [
              "3"
            ]
          },
          "metadata": {
            "tags": []
          },
          "execution_count": 9
        }
      ]
    },
    {
      "cell_type": "code",
      "metadata": {
        "id": "yTZ1Wnk4RsKJ",
        "colab_type": "code",
        "outputId": "99eef7f7-176e-4422-d43d-4260409df1a7",
        "colab": {
          "base_uri": "https://localhost:8080/",
          "height": 34
        }
      },
      "source": [
        "#Dataset has 3 duplicate rows. We need to drop these.\n",
        "house.drop_duplicates(keep=False,inplace=True) \n",
        "house.duplicated().sum()"
      ],
      "execution_count": 0,
      "outputs": [
        {
          "output_type": "execute_result",
          "data": {
            "text/plain": [
              "0"
            ]
          },
          "metadata": {
            "tags": []
          },
          "execution_count": 10
        }
      ]
    },
    {
      "cell_type": "code",
      "metadata": {
        "id": "Ya_lrxsPjngU",
        "colab_type": "code",
        "outputId": "46ae0243-20e8-4933-ba21-b4657fa1e318",
        "colab": {
          "base_uri": "https://localhost:8080/",
          "height": 316
        }
      },
      "source": [
        "# central tendency\n",
        "house.describe()"
      ],
      "execution_count": 0,
      "outputs": [
        {
          "output_type": "execute_result",
          "data": {
            "text/html": [
              "<div>\n",
              "<style scoped>\n",
              "    .dataframe tbody tr th:only-of-type {\n",
              "        vertical-align: middle;\n",
              "    }\n",
              "\n",
              "    .dataframe tbody tr th {\n",
              "        vertical-align: top;\n",
              "    }\n",
              "\n",
              "    .dataframe thead th {\n",
              "        text-align: right;\n",
              "    }\n",
              "</style>\n",
              "<table border=\"1\" class=\"dataframe\">\n",
              "  <thead>\n",
              "    <tr style=\"text-align: right;\">\n",
              "      <th></th>\n",
              "      <th>id</th>\n",
              "      <th>price</th>\n",
              "      <th>bedrooms</th>\n",
              "      <th>bathrooms</th>\n",
              "      <th>sqft_living</th>\n",
              "      <th>sqft_lot</th>\n",
              "      <th>floors</th>\n",
              "      <th>waterfront</th>\n",
              "      <th>view</th>\n",
              "      <th>condition</th>\n",
              "      <th>grade</th>\n",
              "      <th>sqft_above</th>\n",
              "      <th>sqft_basement</th>\n",
              "      <th>yr_built</th>\n",
              "      <th>yr_renovated</th>\n",
              "      <th>zipcode</th>\n",
              "      <th>lat</th>\n",
              "      <th>long</th>\n",
              "      <th>sqft_living15</th>\n",
              "      <th>sqft_lot15</th>\n",
              "    </tr>\n",
              "  </thead>\n",
              "  <tbody>\n",
              "    <tr>\n",
              "      <th>count</th>\n",
              "      <td>2.160700e+04</td>\n",
              "      <td>2.160700e+04</td>\n",
              "      <td>21607.000000</td>\n",
              "      <td>21607.000000</td>\n",
              "      <td>21607.000000</td>\n",
              "      <td>2.160700e+04</td>\n",
              "      <td>21607.000000</td>\n",
              "      <td>21607.000000</td>\n",
              "      <td>21607.000000</td>\n",
              "      <td>21607.000000</td>\n",
              "      <td>21607.000000</td>\n",
              "      <td>21607.000000</td>\n",
              "      <td>21607.000000</td>\n",
              "      <td>21607.000000</td>\n",
              "      <td>21607.000000</td>\n",
              "      <td>21607.000000</td>\n",
              "      <td>21607.000000</td>\n",
              "      <td>21607.000000</td>\n",
              "      <td>21607.000000</td>\n",
              "      <td>21607.000000</td>\n",
              "    </tr>\n",
              "    <tr>\n",
              "      <th>mean</th>\n",
              "      <td>4.580020e+09</td>\n",
              "      <td>5.401757e+05</td>\n",
              "      <td>3.370852</td>\n",
              "      <td>2.114720</td>\n",
              "      <td>2079.862683</td>\n",
              "      <td>1.510961e+04</td>\n",
              "      <td>1.494169</td>\n",
              "      <td>0.007544</td>\n",
              "      <td>0.234091</td>\n",
              "      <td>3.409451</td>\n",
              "      <td>7.656685</td>\n",
              "      <td>1788.305086</td>\n",
              "      <td>291.557597</td>\n",
              "      <td>1971.002083</td>\n",
              "      <td>84.242421</td>\n",
              "      <td>98077.951543</td>\n",
              "      <td>47.560045</td>\n",
              "      <td>-122.213923</td>\n",
              "      <td>1986.484889</td>\n",
              "      <td>12769.608460</td>\n",
              "    </tr>\n",
              "    <tr>\n",
              "      <th>std</th>\n",
              "      <td>2.876528e+09</td>\n",
              "      <td>3.674129e+05</td>\n",
              "      <td>0.930158</td>\n",
              "      <td>0.770244</td>\n",
              "      <td>918.559712</td>\n",
              "      <td>4.142594e+04</td>\n",
              "      <td>0.539998</td>\n",
              "      <td>0.086529</td>\n",
              "      <td>0.765955</td>\n",
              "      <td>0.650785</td>\n",
              "      <td>1.175542</td>\n",
              "      <td>828.186477</td>\n",
              "      <td>442.618358</td>\n",
              "      <td>29.371866</td>\n",
              "      <td>401.319142</td>\n",
              "      <td>53.505719</td>\n",
              "      <td>0.138580</td>\n",
              "      <td>0.140837</td>\n",
              "      <td>685.460263</td>\n",
              "      <td>27307.765664</td>\n",
              "    </tr>\n",
              "    <tr>\n",
              "      <th>min</th>\n",
              "      <td>1.000102e+06</td>\n",
              "      <td>7.500000e+04</td>\n",
              "      <td>0.000000</td>\n",
              "      <td>0.000000</td>\n",
              "      <td>290.000000</td>\n",
              "      <td>5.200000e+02</td>\n",
              "      <td>1.000000</td>\n",
              "      <td>0.000000</td>\n",
              "      <td>0.000000</td>\n",
              "      <td>1.000000</td>\n",
              "      <td>1.000000</td>\n",
              "      <td>290.000000</td>\n",
              "      <td>0.000000</td>\n",
              "      <td>1900.000000</td>\n",
              "      <td>0.000000</td>\n",
              "      <td>98001.000000</td>\n",
              "      <td>47.155900</td>\n",
              "      <td>-122.519000</td>\n",
              "      <td>399.000000</td>\n",
              "      <td>651.000000</td>\n",
              "    </tr>\n",
              "    <tr>\n",
              "      <th>25%</th>\n",
              "      <td>2.123049e+09</td>\n",
              "      <td>3.215000e+05</td>\n",
              "      <td>3.000000</td>\n",
              "      <td>1.750000</td>\n",
              "      <td>1423.500000</td>\n",
              "      <td>5.040000e+03</td>\n",
              "      <td>1.000000</td>\n",
              "      <td>0.000000</td>\n",
              "      <td>0.000000</td>\n",
              "      <td>3.000000</td>\n",
              "      <td>7.000000</td>\n",
              "      <td>1190.000000</td>\n",
              "      <td>0.000000</td>\n",
              "      <td>1951.000000</td>\n",
              "      <td>0.000000</td>\n",
              "      <td>98033.000000</td>\n",
              "      <td>47.470850</td>\n",
              "      <td>-122.328000</td>\n",
              "      <td>1490.000000</td>\n",
              "      <td>5100.000000</td>\n",
              "    </tr>\n",
              "    <tr>\n",
              "      <th>50%</th>\n",
              "      <td>3.904930e+09</td>\n",
              "      <td>4.500000e+05</td>\n",
              "      <td>3.000000</td>\n",
              "      <td>2.250000</td>\n",
              "      <td>1910.000000</td>\n",
              "      <td>7.620000e+03</td>\n",
              "      <td>1.500000</td>\n",
              "      <td>0.000000</td>\n",
              "      <td>0.000000</td>\n",
              "      <td>3.000000</td>\n",
              "      <td>7.000000</td>\n",
              "      <td>1560.000000</td>\n",
              "      <td>0.000000</td>\n",
              "      <td>1975.000000</td>\n",
              "      <td>0.000000</td>\n",
              "      <td>98065.000000</td>\n",
              "      <td>47.571800</td>\n",
              "      <td>-122.231000</td>\n",
              "      <td>1840.000000</td>\n",
              "      <td>7620.000000</td>\n",
              "    </tr>\n",
              "    <tr>\n",
              "      <th>75%</th>\n",
              "      <td>7.308900e+09</td>\n",
              "      <td>6.450000e+05</td>\n",
              "      <td>4.000000</td>\n",
              "      <td>2.500000</td>\n",
              "      <td>2550.000000</td>\n",
              "      <td>1.069200e+04</td>\n",
              "      <td>2.000000</td>\n",
              "      <td>0.000000</td>\n",
              "      <td>0.000000</td>\n",
              "      <td>4.000000</td>\n",
              "      <td>8.000000</td>\n",
              "      <td>2210.000000</td>\n",
              "      <td>560.000000</td>\n",
              "      <td>1997.000000</td>\n",
              "      <td>0.000000</td>\n",
              "      <td>98118.000000</td>\n",
              "      <td>47.678000</td>\n",
              "      <td>-122.125000</td>\n",
              "      <td>2360.000000</td>\n",
              "      <td>10083.000000</td>\n",
              "    </tr>\n",
              "    <tr>\n",
              "      <th>max</th>\n",
              "      <td>9.900000e+09</td>\n",
              "      <td>7.700000e+06</td>\n",
              "      <td>33.000000</td>\n",
              "      <td>8.000000</td>\n",
              "      <td>13540.000000</td>\n",
              "      <td>1.651359e+06</td>\n",
              "      <td>3.500000</td>\n",
              "      <td>1.000000</td>\n",
              "      <td>4.000000</td>\n",
              "      <td>5.000000</td>\n",
              "      <td>13.000000</td>\n",
              "      <td>9410.000000</td>\n",
              "      <td>4820.000000</td>\n",
              "      <td>2015.000000</td>\n",
              "      <td>2015.000000</td>\n",
              "      <td>98199.000000</td>\n",
              "      <td>47.777600</td>\n",
              "      <td>-121.315000</td>\n",
              "      <td>6210.000000</td>\n",
              "      <td>871200.000000</td>\n",
              "    </tr>\n",
              "  </tbody>\n",
              "</table>\n",
              "</div>"
            ],
            "text/plain": [
              "                 id         price  ...  sqft_living15     sqft_lot15\n",
              "count  2.160700e+04  2.160700e+04  ...   21607.000000   21607.000000\n",
              "mean   4.580020e+09  5.401757e+05  ...    1986.484889   12769.608460\n",
              "std    2.876528e+09  3.674129e+05  ...     685.460263   27307.765664\n",
              "min    1.000102e+06  7.500000e+04  ...     399.000000     651.000000\n",
              "25%    2.123049e+09  3.215000e+05  ...    1490.000000    5100.000000\n",
              "50%    3.904930e+09  4.500000e+05  ...    1840.000000    7620.000000\n",
              "75%    7.308900e+09  6.450000e+05  ...    2360.000000   10083.000000\n",
              "max    9.900000e+09  7.700000e+06  ...    6210.000000  871200.000000\n",
              "\n",
              "[8 rows x 20 columns]"
            ]
          },
          "metadata": {
            "tags": []
          },
          "execution_count": 12
        }
      ]
    },
    {
      "cell_type": "code",
      "metadata": {
        "id": "YWnQEW2lSVZo",
        "colab_type": "code",
        "outputId": "be121242-64c1-4577-d431-9605042032eb",
        "colab": {
          "base_uri": "https://localhost:8080/",
          "height": 103
        }
      },
      "source": [
        "                       #Checking for anomalies\n",
        "house.columns"
      ],
      "execution_count": 0,
      "outputs": [
        {
          "output_type": "execute_result",
          "data": {
            "text/plain": [
              "Index(['id', 'price', 'bedrooms', 'bathrooms', 'sqft_living', 'sqft_lot',\n",
              "       'floors', 'waterfront', 'view', 'condition', 'grade', 'sqft_above',\n",
              "       'sqft_basement', 'yr_built', 'yr_renovated', 'zipcode', 'lat', 'long',\n",
              "       'sqft_living15', 'sqft_lot15'],\n",
              "      dtype='object')"
            ]
          },
          "metadata": {
            "tags": []
          },
          "execution_count": 13
        }
      ]
    },
    {
      "cell_type": "code",
      "metadata": {
        "id": "SmTVZDdpUOgA",
        "colab_type": "code",
        "outputId": "5fc121ac-17a8-4ee5-f5e8-4791f464eb15",
        "colab": {
          "base_uri": "https://localhost:8080/",
          "height": 296
        }
      },
      "source": [
        "sns.boxplot(x=house['price'])"
      ],
      "execution_count": 0,
      "outputs": [
        {
          "output_type": "execute_result",
          "data": {
            "text/plain": [
              "<matplotlib.axes._subplots.AxesSubplot at 0x7eff79e4c5c0>"
            ]
          },
          "metadata": {
            "tags": []
          },
          "execution_count": 14
        },
        {
          "output_type": "display_data",
          "data": {
            "image/png": "[encoded data removed]",
            "text/plain": [
              "<Figure size 432x288 with 1 Axes>"
            ]
          },
          "metadata": {
            "tags": [],
            "needs_background": "light"
          }
        }
      ]
    },
    {
      "cell_type": "markdown",
      "metadata": {
        "id": "k4TgI82egmbJ",
        "colab_type": "text"
      },
      "source": [
        "The dataset has houses that prices are very high so we will not deal with the outliers\n"
      ]
    },
    {
      "cell_type": "code",
      "metadata": {
        "id": "k56rOtFug0JS",
        "colab_type": "code",
        "outputId": "c8e44e2f-5f81-4e3c-dab2-12da5b89f9ff",
        "colab": {
          "base_uri": "https://localhost:8080/",
          "height": 296
        }
      },
      "source": [
        "sns.boxplot(x=house['bedrooms'])"
      ],
      "execution_count": 0,
      "outputs": [
        {
          "output_type": "execute_result",
          "data": {
            "text/plain": [
              "<matplotlib.axes._subplots.AxesSubplot at 0x7fa951c01f98>"
            ]
          },
          "metadata": {
            "tags": []
          },
          "execution_count": 16
        },
        {
          "output_type": "display_data",
          "data": {
            "image/png": "[encoded data removed]",
            "text/plain": [
              "<Figure size 432x288 with 1 Axes>"
            ]
          },
          "metadata": {
            "tags": [],
            "needs_background": "light"
          }
        }
      ]
    },
    {
      "cell_type": "code",
      "metadata": {
        "id": "1AtNk7o3hjA2",
        "colab_type": "code",
        "outputId": "efe36001-fb7c-4539-d5f3-051e15e1fba0",
        "colab": {
          "base_uri": "https://localhost:8080/",
          "height": 99
        }
      },
      "source": [
        "#View the row that has the outlier \n",
        "#we are trying to filter out the outlier\n",
        "df = house[house[\"bedrooms\"] >= 15]\n",
        "df"
      ],
      "execution_count": 0,
      "outputs": [
        {
          "output_type": "execute_result",
          "data": {
            "text/html": [
              "<div>\n",
              "<style scoped>\n",
              "    .dataframe tbody tr th:only-of-type {\n",
              "        vertical-align: middle;\n",
              "    }\n",
              "\n",
              "    .dataframe tbody tr th {\n",
              "        vertical-align: top;\n",
              "    }\n",
              "\n",
              "    .dataframe thead th {\n",
              "        text-align: right;\n",
              "    }\n",
              "</style>\n",
              "<table border=\"1\" class=\"dataframe\">\n",
              "  <thead>\n",
              "    <tr style=\"text-align: right;\">\n",
              "      <th></th>\n",
              "      <th>id</th>\n",
              "      <th>price</th>\n",
              "      <th>bedrooms</th>\n",
              "      <th>bathrooms</th>\n",
              "      <th>sqft_living</th>\n",
              "      <th>sqft_lot</th>\n",
              "      <th>floors</th>\n",
              "      <th>waterfront</th>\n",
              "      <th>view</th>\n",
              "      <th>condition</th>\n",
              "      <th>grade</th>\n",
              "      <th>sqft_above</th>\n",
              "      <th>sqft_basement</th>\n",
              "      <th>yr_built</th>\n",
              "      <th>yr_renovated</th>\n",
              "      <th>zipcode</th>\n",
              "      <th>lat</th>\n",
              "      <th>long</th>\n",
              "      <th>sqft_living15</th>\n",
              "      <th>sqft_lot15</th>\n",
              "    </tr>\n",
              "  </thead>\n",
              "  <tbody>\n",
              "    <tr>\n",
              "      <th>15870</th>\n",
              "      <td>2402100895</td>\n",
              "      <td>640000.0</td>\n",
              "      <td>33</td>\n",
              "      <td>1.75</td>\n",
              "      <td>1620</td>\n",
              "      <td>6000</td>\n",
              "      <td>1.0</td>\n",
              "      <td>0</td>\n",
              "      <td>0</td>\n",
              "      <td>5</td>\n",
              "      <td>7</td>\n",
              "      <td>1040</td>\n",
              "      <td>580</td>\n",
              "      <td>1947</td>\n",
              "      <td>0</td>\n",
              "      <td>98103</td>\n",
              "      <td>47.6878</td>\n",
              "      <td>-122.331</td>\n",
              "      <td>1330</td>\n",
              "      <td>4700</td>\n",
              "    </tr>\n",
              "  </tbody>\n",
              "</table>\n",
              "</div>"
            ],
            "text/plain": [
              "               id     price  bedrooms  ...     long  sqft_living15  sqft_lot15\n",
              "15870  2402100895  640000.0        33  ... -122.331           1330        4700\n",
              "\n",
              "[1 rows x 20 columns]"
            ]
          },
          "metadata": {
            "tags": []
          },
          "execution_count": 15
        }
      ]
    },
    {
      "cell_type": "markdown",
      "metadata": {
        "id": "qX3E2BBiiL87",
        "colab_type": "text"
      },
      "source": [
        "The row has a house with 33 beadrooms,with one bathrooms,in grade 7 and the price is moderate, so we will drop this row so it doesnt affect our data analysis later\n"
      ]
    },
    {
      "cell_type": "code",
      "metadata": {
        "id": "RziVsUcXi7oX",
        "colab_type": "code",
        "outputId": "5d5b2587-d893-4e01-c827-148e69ea236a",
        "colab": {
          "base_uri": "https://localhost:8080/",
          "height": 34
        }
      },
      "source": [
        "#drop data by index number\n",
        "house1=house.drop(house.index[15870])\n",
        "house1.shape"
      ],
      "execution_count": 0,
      "outputs": [
        {
          "output_type": "execute_result",
          "data": {
            "text/plain": [
              "(21606, 20)"
            ]
          },
          "metadata": {
            "tags": []
          },
          "execution_count": 16
        }
      ]
    },
    {
      "cell_type": "code",
      "metadata": {
        "id": "_sw7gGf7hEl-",
        "colab_type": "code",
        "outputId": "0c3c7adf-c2e5-415c-9cc8-325043d07d40",
        "colab": {
          "base_uri": "https://localhost:8080/",
          "height": 296
        }
      },
      "source": [
        "sns.boxplot(x=house['bathrooms'])"
      ],
      "execution_count": 0,
      "outputs": [
        {
          "output_type": "execute_result",
          "data": {
            "text/plain": [
              "<matplotlib.axes._subplots.AxesSubplot at 0x7eff79d8b518>"
            ]
          },
          "metadata": {
            "tags": []
          },
          "execution_count": 17
        },
        {
          "output_type": "display_data",
          "data": {
            "image/png": "[encoded data removed]",
            "text/plain": [
              "<Figure size 432x288 with 1 Axes>"
            ]
          },
          "metadata": {
            "tags": [],
            "needs_background": "light"
          }
        }
      ]
    },
    {
      "cell_type": "markdown",
      "metadata": {
        "id": "PaPicJzs1Knl",
        "colab_type": "text"
      },
      "source": [
        " **UNIVARIATE ANALYSIS**"
      ]
    },
    {
      "cell_type": "code",
      "metadata": {
        "id": "X93iyuxZnrGg",
        "colab_type": "code",
        "outputId": "8d7e13ea-fb6c-4727-a3c5-17e4e077fdd0",
        "colab": {
          "base_uri": "https://localhost:8080/",
          "height": 621
        }
      },
      "source": [
        "#  A view of the home variables using distribtion plot\n",
        "plt.figure(figsize = (12,10))\n",
        "plt.tight_layout()\n",
        "sns.distplot(house1['price']) \n",
        "plt.xlabel('price')\n",
        "plt.ylabel('frequency')\n",
        "plt.title('Frequency distribution of Prices')\n",
        "plt.show()"
      ],
      "execution_count": 0,
      "outputs": [
        {
          "output_type": "display_data",
          "data": {
            "image/png": "[encoded data removed]",
            "text/plain": [
              "<Figure size 864x720 with 1 Axes>"
            ]
          },
          "metadata": {
            "tags": [],
            "needs_background": "light"
          }
        }
      ]
    },
    {
      "cell_type": "code",
      "metadata": {
        "id": "-Hb1caVcnrVN",
        "colab_type": "code",
        "outputId": "7181f0b2-0f2a-4bb5-c00f-26e1d0d7fae7",
        "colab": {
          "base_uri": "https://localhost:8080/",
          "height": 513
        }
      },
      "source": [
        "#  A view of the house grades using distribtion plot\n",
        "plt.figure(figsize = (10,8))\n",
        "plt.tight_layout()\n",
        "sns.distplot(house1['grade']) \n",
        "plt.xlabel('grade')\n",
        "plt.ylabel('frequency')\n",
        "plt.title('Frequency distribution of grades')\n",
        "plt.show()"
      ],
      "execution_count": 0,
      "outputs": [
        {
          "output_type": "display_data",
          "data": {
            "image/png": "[encoded data removed]",
            "text/plain": [
              "<Figure size 720x576 with 1 Axes>"
            ]
          },
          "metadata": {
            "tags": [],
            "needs_background": "light"
          }
        }
      ]
    },
    {
      "cell_type": "markdown",
      "metadata": {
        "id": "usAQVUEf89q7",
        "colab_type": "text"
      },
      "source": [
        "Most houses are in grade 7 \n"
      ]
    },
    {
      "cell_type": "code",
      "metadata": {
        "id": "QgIcrPhS9Oo0",
        "colab_type": "code",
        "outputId": "5d70fa6a-c82f-423b-d9fa-9ff51ceb22a5",
        "colab": {
          "base_uri": "https://localhost:8080/",
          "height": 497
        }
      },
      "source": [
        "# plot using subplots\n",
        "sns.set_style('ticks')\n",
        "fig, ax = plt.subplots()\n",
        "\n",
        "#  Setting of the size \n",
        "fig.set_size_inches(11.7, 8.27)\n",
        "sns.violinplot(data=house1['yr_built'], inner=\"points\", ax=ax)    \n",
        "sns.despine()"
      ],
      "execution_count": 0,
      "outputs": [
        {
          "output_type": "display_data",
          "data": {
            "image/png": "[encoded data removed]",
            "text/plain": [
              "<Figure size 842.4x595.44 with 1 Axes>"
            ]
          },
          "metadata": {
            "tags": []
          }
        }
      ]
    },
    {
      "cell_type": "markdown",
      "metadata": {
        "id": "1f5821tnAoOZ",
        "colab_type": "text"
      },
      "source": [
        "Most houses were builts in 2015\n",
        "\n"
      ]
    },
    {
      "cell_type": "code",
      "metadata": {
        "id": "PNkyJ7FiA_v_",
        "colab_type": "code",
        "colab": {}
      },
      "source": [
        ""
      ],
      "execution_count": 0,
      "outputs": []
    },
    {
      "cell_type": "markdown",
      "metadata": {
        "id": "Vxd0CrbVKLg6",
        "colab_type": "text"
      },
      "source": [
        "**BIVARIATE ANALYSIS**"
      ]
    },
    {
      "cell_type": "code",
      "metadata": {
        "id": "NNtaxzi288sZ",
        "colab_type": "code",
        "outputId": "dd780c76-5fde-4c9f-c1e4-cf700362d4e9",
        "colab": {
          "base_uri": "https://localhost:8080/",
          "height": 404
        }
      },
      "source": [
        "#scatter plot\n",
        "plt.figure(dpi = 100)\n",
        "\n",
        "# plotting our scatterplot using matplotlib\n",
        "plt.scatter(house1['price'], house1['bedrooms'])\n",
        "\n",
        "# Giving the scatterplot a title\n",
        "plt.title('A scatter plot of price vs bedrooms', color = 'black')\n",
        "\n",
        "# Labelling the x -axis\n",
        "plt.xlabel('price')\n",
        "\n",
        "# Labelling the y- axis\n",
        "plt.ylabel('bedrooms')\n",
        "\n",
        "# We then display our scatterplot \n",
        "plt.show()"
      ],
      "execution_count": 0,
      "outputs": [
        {
          "output_type": "display_data",
          "data": {
            "image/png": "[encoded data removed]",
            "text/plain": [
              "<Figure size 600x400 with 1 Axes>"
            ]
          },
          "metadata": {
            "tags": []
          }
        }
      ]
    },
    {
      "cell_type": "code",
      "metadata": {
        "id": "66l-3cwenrjR",
        "colab_type": "code",
        "outputId": "ac4a19cf-e281-4ae4-ef94-6059f6804912",
        "colab": {
          "base_uri": "https://localhost:8080/",
          "height": 404
        }
      },
      "source": [
        "\n",
        "#scatter plot\n",
        "plt.figure(dpi = 100)\n",
        "\n",
        "# plotting our scatterplot using matplotlib\n",
        "plt.scatter(house1['price'], house1['sqft_living'])\n",
        "\n",
        "# Giving the scatterplot a title\n",
        "plt.title('A scatter plot of price vs sqft_living', color = 'black')\n",
        "\n",
        "# Labelling the x -axis\n",
        "plt.xlabel('price')\n",
        "\n",
        "# Labelling the y- axis\n",
        "plt.ylabel('sqft_living')\n",
        "\n",
        "# We then display our scatterplot \n",
        "plt.show()"
      ],
      "execution_count": 0,
      "outputs": [
        {
          "output_type": "display_data",
          "data": {
            "image/png": "[encoded data removed]",
            "text/plain": [
              "<Figure size 600x400 with 1 Axes>"
            ]
          },
          "metadata": {
            "tags": []
          }
        }
      ]
    },
    {
      "cell_type": "markdown",
      "metadata": {
        "id": "EBv1HLDkbLEc",
        "colab_type": "text"
      },
      "source": [
        "The scatter plot shows a positivecorrelation,as the increase in the sqft_ living increases the house prices\n",
        "\n"
      ]
    },
    {
      "cell_type": "markdown",
      "metadata": {
        "id": "SZCTlToNbTJY",
        "colab_type": "text"
      },
      "source": [
        "**Multivariate analysis**"
      ]
    },
    {
      "cell_type": "code",
      "metadata": {
        "id": "kzuDkKktg8Fq",
        "colab_type": "code",
        "outputId": "37a283a8-417f-4f51-b9c6-6876982bc7b2",
        "colab": {
          "base_uri": "https://localhost:8080/",
          "height": 241
        }
      },
      "source": [
        "print(house1[['floors','bedrooms','sqft_living']].sort_values('floors',ascending=False).head(10))\n",
        "\n",
        "print('**')\n",
        "\n",
        "\n",
        "print('Highest floor is',house1['floors'].max())"
      ],
      "execution_count": 0,
      "outputs": [
        {
          "output_type": "stream",
          "text": [
            "       floors  bedrooms  sqft_living\n",
            "15424     3.5         2         1730\n",
            "14885     3.5         3         1730\n",
            "11594     3.5         3         1760\n",
            "875       3.5         0         3064\n",
            "18477     3.5         8         7710\n",
            "20308     3.5         2         1310\n",
            "20772     3.5         3         1400\n",
            "10077     3.5         3         1440\n",
            "20546     3.0         3         1300\n",
            "20554     3.0         3         1408\n",
            "**\n",
            "Highest floor is 3.5\n"
          ],
          "name": "stdout"
        }
      ]
    },
    {
      "cell_type": "code",
      "metadata": {
        "id": "iYf0ujtRbRYd",
        "colab_type": "code",
        "outputId": "3ac9d525-c219-40c7-b0a0-8212f425970d",
        "colab": {
          "base_uri": "https://localhost:8080/",
          "height": 687
        }
      },
      "source": [
        "house1.corr()"
      ],
      "execution_count": 0,
      "outputs": [
        {
          "output_type": "execute_result",
          "data": {
            "text/html": [
              "<div>\n",
              "<style scoped>\n",
              "    .dataframe tbody tr th:only-of-type {\n",
              "        vertical-align: middle;\n",
              "    }\n",
              "\n",
              "    .dataframe tbody tr th {\n",
              "        vertical-align: top;\n",
              "    }\n",
              "\n",
              "    .dataframe thead th {\n",
              "        text-align: right;\n",
              "    }\n",
              "</style>\n",
              "<table border=\"1\" class=\"dataframe\">\n",
              "  <thead>\n",
              "    <tr style=\"text-align: right;\">\n",
              "      <th></th>\n",
              "      <th>id</th>\n",
              "      <th>price</th>\n",
              "      <th>bedrooms</th>\n",
              "      <th>bathrooms</th>\n",
              "      <th>sqft_living</th>\n",
              "      <th>sqft_lot</th>\n",
              "      <th>floors</th>\n",
              "      <th>waterfront</th>\n",
              "      <th>view</th>\n",
              "      <th>condition</th>\n",
              "      <th>grade</th>\n",
              "      <th>sqft_above</th>\n",
              "      <th>sqft_basement</th>\n",
              "      <th>yr_built</th>\n",
              "      <th>yr_renovated</th>\n",
              "      <th>zipcode</th>\n",
              "      <th>lat</th>\n",
              "      <th>long</th>\n",
              "      <th>sqft_living15</th>\n",
              "      <th>sqft_lot15</th>\n",
              "    </tr>\n",
              "  </thead>\n",
              "  <tbody>\n",
              "    <tr>\n",
              "      <th>id</th>\n",
              "      <td>1.000000</td>\n",
              "      <td>-0.016944</td>\n",
              "      <td>0.001439</td>\n",
              "      <td>0.005018</td>\n",
              "      <td>-0.012285</td>\n",
              "      <td>-0.132105</td>\n",
              "      <td>0.018481</td>\n",
              "      <td>-0.003244</td>\n",
              "      <td>0.011762</td>\n",
              "      <td>-0.023562</td>\n",
              "      <td>0.007967</td>\n",
              "      <td>-0.010880</td>\n",
              "      <td>-0.005137</td>\n",
              "      <td>0.021042</td>\n",
              "      <td>-0.016460</td>\n",
              "      <td>-0.007992</td>\n",
              "      <td>-0.001892</td>\n",
              "      <td>0.020770</td>\n",
              "      <td>-0.002932</td>\n",
              "      <td>-0.138772</td>\n",
              "    </tr>\n",
              "    <tr>\n",
              "      <th>price</th>\n",
              "      <td>-0.016944</td>\n",
              "      <td>1.000000</td>\n",
              "      <td>0.308468</td>\n",
              "      <td>0.525224</td>\n",
              "      <td>0.702028</td>\n",
              "      <td>0.089652</td>\n",
              "      <td>0.256977</td>\n",
              "      <td>0.265662</td>\n",
              "      <td>0.397228</td>\n",
              "      <td>0.036493</td>\n",
              "      <td>0.667418</td>\n",
              "      <td>0.605668</td>\n",
              "      <td>0.323625</td>\n",
              "      <td>0.053948</td>\n",
              "      <td>0.126617</td>\n",
              "      <td>-0.053043</td>\n",
              "      <td>0.306820</td>\n",
              "      <td>0.021614</td>\n",
              "      <td>0.585284</td>\n",
              "      <td>0.082442</td>\n",
              "    </tr>\n",
              "    <tr>\n",
              "      <th>bedrooms</th>\n",
              "      <td>0.001439</td>\n",
              "      <td>0.308468</td>\n",
              "      <td>1.000000</td>\n",
              "      <td>0.515992</td>\n",
              "      <td>0.576732</td>\n",
              "      <td>0.031699</td>\n",
              "      <td>0.175454</td>\n",
              "      <td>-0.006392</td>\n",
              "      <td>0.079470</td>\n",
              "      <td>0.028361</td>\n",
              "      <td>0.357110</td>\n",
              "      <td>0.477642</td>\n",
              "      <td>0.303157</td>\n",
              "      <td>0.154380</td>\n",
              "      <td>0.018546</td>\n",
              "      <td>-0.152794</td>\n",
              "      <td>-0.008951</td>\n",
              "      <td>0.129468</td>\n",
              "      <td>0.391707</td>\n",
              "      <td>0.029226</td>\n",
              "    </tr>\n",
              "    <tr>\n",
              "      <th>bathrooms</th>\n",
              "      <td>0.005018</td>\n",
              "      <td>0.525224</td>\n",
              "      <td>0.515992</td>\n",
              "      <td>1.000000</td>\n",
              "      <td>0.754734</td>\n",
              "      <td>0.087759</td>\n",
              "      <td>0.500703</td>\n",
              "      <td>0.063852</td>\n",
              "      <td>0.188110</td>\n",
              "      <td>-0.124894</td>\n",
              "      <td>0.665042</td>\n",
              "      <td>0.685359</td>\n",
              "      <td>0.283882</td>\n",
              "      <td>0.505973</td>\n",
              "      <td>0.051022</td>\n",
              "      <td>-0.203792</td>\n",
              "      <td>0.024597</td>\n",
              "      <td>0.223055</td>\n",
              "      <td>0.568736</td>\n",
              "      <td>0.087205</td>\n",
              "    </tr>\n",
              "    <tr>\n",
              "      <th>sqft_living</th>\n",
              "      <td>-0.012285</td>\n",
              "      <td>0.702028</td>\n",
              "      <td>0.576732</td>\n",
              "      <td>0.754734</td>\n",
              "      <td>1.000000</td>\n",
              "      <td>0.172831</td>\n",
              "      <td>0.354040</td>\n",
              "      <td>0.103397</td>\n",
              "      <td>0.284523</td>\n",
              "      <td>-0.058746</td>\n",
              "      <td>0.762709</td>\n",
              "      <td>0.876635</td>\n",
              "      <td>0.434984</td>\n",
              "      <td>0.318144</td>\n",
              "      <td>0.055281</td>\n",
              "      <td>-0.199392</td>\n",
              "      <td>0.052431</td>\n",
              "      <td>0.240254</td>\n",
              "      <td>0.756394</td>\n",
              "      <td>0.183277</td>\n",
              "    </tr>\n",
              "    <tr>\n",
              "      <th>sqft_lot</th>\n",
              "      <td>-0.132105</td>\n",
              "      <td>0.089652</td>\n",
              "      <td>0.031699</td>\n",
              "      <td>0.087759</td>\n",
              "      <td>0.172831</td>\n",
              "      <td>1.000000</td>\n",
              "      <td>-0.005134</td>\n",
              "      <td>0.021562</td>\n",
              "      <td>0.074793</td>\n",
              "      <td>-0.008971</td>\n",
              "      <td>0.113660</td>\n",
              "      <td>0.183540</td>\n",
              "      <td>0.015236</td>\n",
              "      <td>0.053128</td>\n",
              "      <td>0.007713</td>\n",
              "      <td>-0.129643</td>\n",
              "      <td>-0.085693</td>\n",
              "      <td>0.229587</td>\n",
              "      <td>0.144628</td>\n",
              "      <td>0.718555</td>\n",
              "    </tr>\n",
              "    <tr>\n",
              "      <th>floors</th>\n",
              "      <td>0.018481</td>\n",
              "      <td>0.256977</td>\n",
              "      <td>0.175454</td>\n",
              "      <td>0.500703</td>\n",
              "      <td>0.354040</td>\n",
              "      <td>-0.005134</td>\n",
              "      <td>1.000000</td>\n",
              "      <td>0.024284</td>\n",
              "      <td>0.029431</td>\n",
              "      <td>-0.263824</td>\n",
              "      <td>0.458255</td>\n",
              "      <td>0.523881</td>\n",
              "      <td>-0.245575</td>\n",
              "      <td>0.489399</td>\n",
              "      <td>0.005964</td>\n",
              "      <td>-0.058972</td>\n",
              "      <td>0.049631</td>\n",
              "      <td>0.125254</td>\n",
              "      <td>0.279959</td>\n",
              "      <td>-0.011221</td>\n",
              "    </tr>\n",
              "    <tr>\n",
              "      <th>waterfront</th>\n",
              "      <td>-0.003244</td>\n",
              "      <td>0.265662</td>\n",
              "      <td>-0.006392</td>\n",
              "      <td>0.063852</td>\n",
              "      <td>0.103397</td>\n",
              "      <td>0.021562</td>\n",
              "      <td>0.024284</td>\n",
              "      <td>1.000000</td>\n",
              "      <td>0.400964</td>\n",
              "      <td>0.017038</td>\n",
              "      <td>0.081994</td>\n",
              "      <td>0.072221</td>\n",
              "      <td>0.079447</td>\n",
              "      <td>-0.026400</td>\n",
              "      <td>0.093412</td>\n",
              "      <td>0.030860</td>\n",
              "      <td>-0.015018</td>\n",
              "      <td>-0.041840</td>\n",
              "      <td>0.085642</td>\n",
              "      <td>0.030659</td>\n",
              "    </tr>\n",
              "    <tr>\n",
              "      <th>view</th>\n",
              "      <td>0.011762</td>\n",
              "      <td>0.397228</td>\n",
              "      <td>0.079470</td>\n",
              "      <td>0.188110</td>\n",
              "      <td>0.284523</td>\n",
              "      <td>0.074793</td>\n",
              "      <td>0.029431</td>\n",
              "      <td>0.400964</td>\n",
              "      <td>1.000000</td>\n",
              "      <td>0.045852</td>\n",
              "      <td>0.251145</td>\n",
              "      <td>0.167726</td>\n",
              "      <td>0.276649</td>\n",
              "      <td>-0.053118</td>\n",
              "      <td>0.102603</td>\n",
              "      <td>0.085111</td>\n",
              "      <td>0.005644</td>\n",
              "      <td>-0.078685</td>\n",
              "      <td>0.280081</td>\n",
              "      <td>0.072563</td>\n",
              "    </tr>\n",
              "    <tr>\n",
              "      <th>condition</th>\n",
              "      <td>-0.023562</td>\n",
              "      <td>0.036493</td>\n",
              "      <td>0.028361</td>\n",
              "      <td>-0.124894</td>\n",
              "      <td>-0.058746</td>\n",
              "      <td>-0.008971</td>\n",
              "      <td>-0.263824</td>\n",
              "      <td>0.017038</td>\n",
              "      <td>0.045852</td>\n",
              "      <td>1.000000</td>\n",
              "      <td>-0.144592</td>\n",
              "      <td>-0.158208</td>\n",
              "      <td>0.174143</td>\n",
              "      <td>-0.361273</td>\n",
              "      <td>-0.061113</td>\n",
              "      <td>0.002871</td>\n",
              "      <td>-0.014964</td>\n",
              "      <td>-0.106536</td>\n",
              "      <td>-0.092833</td>\n",
              "      <td>-0.003436</td>\n",
              "    </tr>\n",
              "    <tr>\n",
              "      <th>grade</th>\n",
              "      <td>0.007967</td>\n",
              "      <td>0.667418</td>\n",
              "      <td>0.357110</td>\n",
              "      <td>0.665042</td>\n",
              "      <td>0.762709</td>\n",
              "      <td>0.113660</td>\n",
              "      <td>0.458255</td>\n",
              "      <td>0.081994</td>\n",
              "      <td>0.251145</td>\n",
              "      <td>-0.144592</td>\n",
              "      <td>1.000000</td>\n",
              "      <td>0.755970</td>\n",
              "      <td>0.168295</td>\n",
              "      <td>0.446982</td>\n",
              "      <td>0.014351</td>\n",
              "      <td>-0.184663</td>\n",
              "      <td>0.113981</td>\n",
              "      <td>0.198373</td>\n",
              "      <td>0.713160</td>\n",
              "      <td>0.119271</td>\n",
              "    </tr>\n",
              "    <tr>\n",
              "      <th>sqft_above</th>\n",
              "      <td>-0.010880</td>\n",
              "      <td>0.605668</td>\n",
              "      <td>0.477642</td>\n",
              "      <td>0.685359</td>\n",
              "      <td>0.876635</td>\n",
              "      <td>0.183540</td>\n",
              "      <td>0.523881</td>\n",
              "      <td>0.072221</td>\n",
              "      <td>0.167726</td>\n",
              "      <td>-0.158208</td>\n",
              "      <td>0.755970</td>\n",
              "      <td>1.000000</td>\n",
              "      <td>-0.051930</td>\n",
              "      <td>0.423945</td>\n",
              "      <td>0.023183</td>\n",
              "      <td>-0.261134</td>\n",
              "      <td>-0.000840</td>\n",
              "      <td>0.343782</td>\n",
              "      <td>0.731928</td>\n",
              "      <td>0.194068</td>\n",
              "    </tr>\n",
              "    <tr>\n",
              "      <th>sqft_basement</th>\n",
              "      <td>-0.005137</td>\n",
              "      <td>0.323625</td>\n",
              "      <td>0.303157</td>\n",
              "      <td>0.283882</td>\n",
              "      <td>0.434984</td>\n",
              "      <td>0.015236</td>\n",
              "      <td>-0.245575</td>\n",
              "      <td>0.079447</td>\n",
              "      <td>0.276649</td>\n",
              "      <td>0.174143</td>\n",
              "      <td>0.168295</td>\n",
              "      <td>-0.051930</td>\n",
              "      <td>1.000000</td>\n",
              "      <td>-0.133058</td>\n",
              "      <td>0.071353</td>\n",
              "      <td>0.074844</td>\n",
              "      <td>0.110393</td>\n",
              "      <td>-0.144703</td>\n",
              "      <td>0.200179</td>\n",
              "      <td>0.017216</td>\n",
              "    </tr>\n",
              "    <tr>\n",
              "      <th>yr_built</th>\n",
              "      <td>0.021042</td>\n",
              "      <td>0.053948</td>\n",
              "      <td>0.154380</td>\n",
              "      <td>0.505973</td>\n",
              "      <td>0.318144</td>\n",
              "      <td>0.053128</td>\n",
              "      <td>0.489399</td>\n",
              "      <td>-0.026400</td>\n",
              "      <td>-0.053118</td>\n",
              "      <td>-0.361273</td>\n",
              "      <td>0.446982</td>\n",
              "      <td>0.423945</td>\n",
              "      <td>-0.133058</td>\n",
              "      <td>1.000000</td>\n",
              "      <td>-0.224581</td>\n",
              "      <td>-0.346741</td>\n",
              "      <td>-0.148100</td>\n",
              "      <td>0.409440</td>\n",
              "      <td>0.326370</td>\n",
              "      <td>0.071036</td>\n",
              "    </tr>\n",
              "    <tr>\n",
              "      <th>yr_renovated</th>\n",
              "      <td>-0.016460</td>\n",
              "      <td>0.126617</td>\n",
              "      <td>0.018546</td>\n",
              "      <td>0.051022</td>\n",
              "      <td>0.055281</td>\n",
              "      <td>0.007713</td>\n",
              "      <td>0.005964</td>\n",
              "      <td>0.093412</td>\n",
              "      <td>0.102603</td>\n",
              "      <td>-0.061113</td>\n",
              "      <td>0.014351</td>\n",
              "      <td>0.023183</td>\n",
              "      <td>0.071353</td>\n",
              "      <td>-0.224581</td>\n",
              "      <td>1.000000</td>\n",
              "      <td>0.064412</td>\n",
              "      <td>0.029158</td>\n",
              "      <td>-0.068820</td>\n",
              "      <td>-0.002990</td>\n",
              "      <td>0.007822</td>\n",
              "    </tr>\n",
              "    <tr>\n",
              "      <th>zipcode</th>\n",
              "      <td>-0.007992</td>\n",
              "      <td>-0.053043</td>\n",
              "      <td>-0.152794</td>\n",
              "      <td>-0.203792</td>\n",
              "      <td>-0.199392</td>\n",
              "      <td>-0.129643</td>\n",
              "      <td>-0.058972</td>\n",
              "      <td>0.030860</td>\n",
              "      <td>0.085111</td>\n",
              "      <td>0.002871</td>\n",
              "      <td>-0.184663</td>\n",
              "      <td>-0.261134</td>\n",
              "      <td>0.074844</td>\n",
              "      <td>-0.346741</td>\n",
              "      <td>0.064412</td>\n",
              "      <td>1.000000</td>\n",
              "      <td>0.267153</td>\n",
              "      <td>-0.564094</td>\n",
              "      <td>-0.278976</td>\n",
              "      <td>-0.147286</td>\n",
              "    </tr>\n",
              "    <tr>\n",
              "      <th>lat</th>\n",
              "      <td>-0.001892</td>\n",
              "      <td>0.306820</td>\n",
              "      <td>-0.008951</td>\n",
              "      <td>0.024597</td>\n",
              "      <td>0.052431</td>\n",
              "      <td>-0.085693</td>\n",
              "      <td>0.049631</td>\n",
              "      <td>-0.015018</td>\n",
              "      <td>0.005644</td>\n",
              "      <td>-0.014964</td>\n",
              "      <td>0.113981</td>\n",
              "      <td>-0.000840</td>\n",
              "      <td>0.110393</td>\n",
              "      <td>-0.148100</td>\n",
              "      <td>0.029158</td>\n",
              "      <td>0.267153</td>\n",
              "      <td>1.000000</td>\n",
              "      <td>-0.135562</td>\n",
              "      <td>0.048699</td>\n",
              "      <td>-0.086446</td>\n",
              "    </tr>\n",
              "    <tr>\n",
              "      <th>long</th>\n",
              "      <td>0.020770</td>\n",
              "      <td>0.021614</td>\n",
              "      <td>0.129468</td>\n",
              "      <td>0.223055</td>\n",
              "      <td>0.240254</td>\n",
              "      <td>0.229587</td>\n",
              "      <td>0.125254</td>\n",
              "      <td>-0.041840</td>\n",
              "      <td>-0.078685</td>\n",
              "      <td>-0.106536</td>\n",
              "      <td>0.198373</td>\n",
              "      <td>0.343782</td>\n",
              "      <td>-0.144703</td>\n",
              "      <td>0.409440</td>\n",
              "      <td>-0.068820</td>\n",
              "      <td>-0.564094</td>\n",
              "      <td>-0.135562</td>\n",
              "      <td>1.000000</td>\n",
              "      <td>0.334647</td>\n",
              "      <td>0.254504</td>\n",
              "    </tr>\n",
              "    <tr>\n",
              "      <th>sqft_living15</th>\n",
              "      <td>-0.002932</td>\n",
              "      <td>0.585284</td>\n",
              "      <td>0.391707</td>\n",
              "      <td>0.568736</td>\n",
              "      <td>0.756394</td>\n",
              "      <td>0.144628</td>\n",
              "      <td>0.279959</td>\n",
              "      <td>0.085642</td>\n",
              "      <td>0.280081</td>\n",
              "      <td>-0.092833</td>\n",
              "      <td>0.713160</td>\n",
              "      <td>0.731928</td>\n",
              "      <td>0.200179</td>\n",
              "      <td>0.326370</td>\n",
              "      <td>-0.002990</td>\n",
              "      <td>-0.278976</td>\n",
              "      <td>0.048699</td>\n",
              "      <td>0.334647</td>\n",
              "      <td>1.000000</td>\n",
              "      <td>0.183191</td>\n",
              "    </tr>\n",
              "    <tr>\n",
              "      <th>sqft_lot15</th>\n",
              "      <td>-0.138772</td>\n",
              "      <td>0.082442</td>\n",
              "      <td>0.029226</td>\n",
              "      <td>0.087205</td>\n",
              "      <td>0.183277</td>\n",
              "      <td>0.718555</td>\n",
              "      <td>-0.011221</td>\n",
              "      <td>0.030659</td>\n",
              "      <td>0.072563</td>\n",
              "      <td>-0.003436</td>\n",
              "      <td>0.119271</td>\n",
              "      <td>0.194068</td>\n",
              "      <td>0.017216</td>\n",
              "      <td>0.071036</td>\n",
              "      <td>0.007822</td>\n",
              "      <td>-0.147286</td>\n",
              "      <td>-0.086446</td>\n",
              "      <td>0.254504</td>\n",
              "      <td>0.183191</td>\n",
              "      <td>1.000000</td>\n",
              "    </tr>\n",
              "  </tbody>\n",
              "</table>\n",
              "</div>"
            ],
            "text/plain": [
              "                     id     price  ...  sqft_living15  sqft_lot15\n",
              "id             1.000000 -0.016944  ...      -0.002932   -0.138772\n",
              "price         -0.016944  1.000000  ...       0.585284    0.082442\n",
              "bedrooms       0.001439  0.308468  ...       0.391707    0.029226\n",
              "bathrooms      0.005018  0.525224  ...       0.568736    0.087205\n",
              "sqft_living   -0.012285  0.702028  ...       0.756394    0.183277\n",
              "sqft_lot      -0.132105  0.089652  ...       0.144628    0.718555\n",
              "floors         0.018481  0.256977  ...       0.279959   -0.011221\n",
              "waterfront    -0.003244  0.265662  ...       0.085642    0.030659\n",
              "view           0.011762  0.397228  ...       0.280081    0.072563\n",
              "condition     -0.023562  0.036493  ...      -0.092833   -0.003436\n",
              "grade          0.007967  0.667418  ...       0.713160    0.119271\n",
              "sqft_above    -0.010880  0.605668  ...       0.731928    0.194068\n",
              "sqft_basement -0.005137  0.323625  ...       0.200179    0.017216\n",
              "yr_built       0.021042  0.053948  ...       0.326370    0.071036\n",
              "yr_renovated  -0.016460  0.126617  ...      -0.002990    0.007822\n",
              "zipcode       -0.007992 -0.053043  ...      -0.278976   -0.147286\n",
              "lat           -0.001892  0.306820  ...       0.048699   -0.086446\n",
              "long           0.020770  0.021614  ...       0.334647    0.254504\n",
              "sqft_living15 -0.002932  0.585284  ...       1.000000    0.183191\n",
              "sqft_lot15    -0.138772  0.082442  ...       0.183191    1.000000\n",
              "\n",
              "[20 rows x 20 columns]"
            ]
          },
          "metadata": {
            "tags": []
          },
          "execution_count": 24
        }
      ]
    },
    {
      "cell_type": "code",
      "metadata": {
        "id": "kpVmr-B1nr8e",
        "colab_type": "code",
        "outputId": "67cc5c01-9f5d-41ff-e0c7-6e8be861a826",
        "colab": {
          "base_uri": "https://localhost:8080/",
          "height": 223
        }
      },
      "source": [
        "final_df= house1.drop([\"id\",\"zipcode\",\"lat\",\"long\",\"sqft_living\",\"sqft_lot\",\"sqft_above\"],axis=1)\n",
        "final_df.head()"
      ],
      "execution_count": 0,
      "outputs": [
        {
          "output_type": "execute_result",
          "data": {
            "text/html": [
              "<div>\n",
              "<style scoped>\n",
              "    .dataframe tbody tr th:only-of-type {\n",
              "        vertical-align: middle;\n",
              "    }\n",
              "\n",
              "    .dataframe tbody tr th {\n",
              "        vertical-align: top;\n",
              "    }\n",
              "\n",
              "    .dataframe thead th {\n",
              "        text-align: right;\n",
              "    }\n",
              "</style>\n",
              "<table border=\"1\" class=\"dataframe\">\n",
              "  <thead>\n",
              "    <tr style=\"text-align: right;\">\n",
              "      <th></th>\n",
              "      <th>price</th>\n",
              "      <th>bedrooms</th>\n",
              "      <th>bathrooms</th>\n",
              "      <th>floors</th>\n",
              "      <th>waterfront</th>\n",
              "      <th>view</th>\n",
              "      <th>condition</th>\n",
              "      <th>grade</th>\n",
              "      <th>sqft_basement</th>\n",
              "      <th>yr_built</th>\n",
              "      <th>yr_renovated</th>\n",
              "      <th>sqft_living15</th>\n",
              "      <th>sqft_lot15</th>\n",
              "    </tr>\n",
              "  </thead>\n",
              "  <tbody>\n",
              "    <tr>\n",
              "      <th>0</th>\n",
              "      <td>221900.0</td>\n",
              "      <td>3</td>\n",
              "      <td>1.00</td>\n",
              "      <td>1.0</td>\n",
              "      <td>0</td>\n",
              "      <td>0</td>\n",
              "      <td>3</td>\n",
              "      <td>7</td>\n",
              "      <td>0</td>\n",
              "      <td>1955</td>\n",
              "      <td>0</td>\n",
              "      <td>1340</td>\n",
              "      <td>5650</td>\n",
              "    </tr>\n",
              "    <tr>\n",
              "      <th>1</th>\n",
              "      <td>538000.0</td>\n",
              "      <td>3</td>\n",
              "      <td>2.25</td>\n",
              "      <td>2.0</td>\n",
              "      <td>0</td>\n",
              "      <td>0</td>\n",
              "      <td>3</td>\n",
              "      <td>7</td>\n",
              "      <td>400</td>\n",
              "      <td>1951</td>\n",
              "      <td>1991</td>\n",
              "      <td>1690</td>\n",
              "      <td>7639</td>\n",
              "    </tr>\n",
              "    <tr>\n",
              "      <th>2</th>\n",
              "      <td>180000.0</td>\n",
              "      <td>2</td>\n",
              "      <td>1.00</td>\n",
              "      <td>1.0</td>\n",
              "      <td>0</td>\n",
              "      <td>0</td>\n",
              "      <td>3</td>\n",
              "      <td>6</td>\n",
              "      <td>0</td>\n",
              "      <td>1933</td>\n",
              "      <td>0</td>\n",
              "      <td>2720</td>\n",
              "      <td>8062</td>\n",
              "    </tr>\n",
              "    <tr>\n",
              "      <th>3</th>\n",
              "      <td>604000.0</td>\n",
              "      <td>4</td>\n",
              "      <td>3.00</td>\n",
              "      <td>1.0</td>\n",
              "      <td>0</td>\n",
              "      <td>0</td>\n",
              "      <td>5</td>\n",
              "      <td>7</td>\n",
              "      <td>910</td>\n",
              "      <td>1965</td>\n",
              "      <td>0</td>\n",
              "      <td>1360</td>\n",
              "      <td>5000</td>\n",
              "    </tr>\n",
              "    <tr>\n",
              "      <th>4</th>\n",
              "      <td>510000.0</td>\n",
              "      <td>3</td>\n",
              "      <td>2.00</td>\n",
              "      <td>1.0</td>\n",
              "      <td>0</td>\n",
              "      <td>0</td>\n",
              "      <td>3</td>\n",
              "      <td>8</td>\n",
              "      <td>0</td>\n",
              "      <td>1987</td>\n",
              "      <td>0</td>\n",
              "      <td>1800</td>\n",
              "      <td>7503</td>\n",
              "    </tr>\n",
              "  </tbody>\n",
              "</table>\n",
              "</div>"
            ],
            "text/plain": [
              "      price  bedrooms  bathrooms  ...  yr_renovated  sqft_living15  sqft_lot15\n",
              "0  221900.0         3       1.00  ...             0           1340        5650\n",
              "1  538000.0         3       2.25  ...          1991           1690        7639\n",
              "2  180000.0         2       1.00  ...             0           2720        8062\n",
              "3  604000.0         4       3.00  ...             0           1360        5000\n",
              "4  510000.0         3       2.00  ...             0           1800        7503\n",
              "\n",
              "[5 rows x 13 columns]"
            ]
          },
          "metadata": {
            "tags": []
          },
          "execution_count": 25
        }
      ]
    },
    {
      "cell_type": "markdown",
      "metadata": {
        "id": "JeixeiAFlB59",
        "colab_type": "text"
      },
      "source": [
        "**Multicolinearity**"
      ]
    },
    {
      "cell_type": "code",
      "metadata": {
        "id": "mHEF3T_Fk2X3",
        "colab_type": "code",
        "outputId": "0b6e81a2-e383-4526-9d19-fb1ae3eddfb2",
        "colab": {
          "base_uri": "https://localhost:8080/",
          "height": 470
        }
      },
      "source": [
        "\n",
        "# Find the correlation of the variables\n",
        "correlation=final_df.corr()\n",
        "correlation"
      ],
      "execution_count": 0,
      "outputs": [
        {
          "output_type": "execute_result",
          "data": {
            "text/html": [
              "<div>\n",
              "<style scoped>\n",
              "    .dataframe tbody tr th:only-of-type {\n",
              "        vertical-align: middle;\n",
              "    }\n",
              "\n",
              "    .dataframe tbody tr th {\n",
              "        vertical-align: top;\n",
              "    }\n",
              "\n",
              "    .dataframe thead th {\n",
              "        text-align: right;\n",
              "    }\n",
              "</style>\n",
              "<table border=\"1\" class=\"dataframe\">\n",
              "  <thead>\n",
              "    <tr style=\"text-align: right;\">\n",
              "      <th></th>\n",
              "      <th>price</th>\n",
              "      <th>bedrooms</th>\n",
              "      <th>bathrooms</th>\n",
              "      <th>floors</th>\n",
              "      <th>waterfront</th>\n",
              "      <th>view</th>\n",
              "      <th>condition</th>\n",
              "      <th>grade</th>\n",
              "      <th>sqft_basement</th>\n",
              "      <th>yr_built</th>\n",
              "      <th>yr_renovated</th>\n",
              "      <th>sqft_living15</th>\n",
              "      <th>sqft_lot15</th>\n",
              "    </tr>\n",
              "  </thead>\n",
              "  <tbody>\n",
              "    <tr>\n",
              "      <th>price</th>\n",
              "      <td>1.000000</td>\n",
              "      <td>0.308468</td>\n",
              "      <td>0.525224</td>\n",
              "      <td>0.256977</td>\n",
              "      <td>0.265662</td>\n",
              "      <td>0.397228</td>\n",
              "      <td>0.036493</td>\n",
              "      <td>0.667418</td>\n",
              "      <td>0.323625</td>\n",
              "      <td>0.053948</td>\n",
              "      <td>0.126617</td>\n",
              "      <td>0.585284</td>\n",
              "      <td>0.082442</td>\n",
              "    </tr>\n",
              "    <tr>\n",
              "      <th>bedrooms</th>\n",
              "      <td>0.308468</td>\n",
              "      <td>1.000000</td>\n",
              "      <td>0.515992</td>\n",
              "      <td>0.175454</td>\n",
              "      <td>-0.006392</td>\n",
              "      <td>0.079470</td>\n",
              "      <td>0.028361</td>\n",
              "      <td>0.357110</td>\n",
              "      <td>0.303157</td>\n",
              "      <td>0.154380</td>\n",
              "      <td>0.018546</td>\n",
              "      <td>0.391707</td>\n",
              "      <td>0.029226</td>\n",
              "    </tr>\n",
              "    <tr>\n",
              "      <th>bathrooms</th>\n",
              "      <td>0.525224</td>\n",
              "      <td>0.515992</td>\n",
              "      <td>1.000000</td>\n",
              "      <td>0.500703</td>\n",
              "      <td>0.063852</td>\n",
              "      <td>0.188110</td>\n",
              "      <td>-0.124894</td>\n",
              "      <td>0.665042</td>\n",
              "      <td>0.283882</td>\n",
              "      <td>0.505973</td>\n",
              "      <td>0.051022</td>\n",
              "      <td>0.568736</td>\n",
              "      <td>0.087205</td>\n",
              "    </tr>\n",
              "    <tr>\n",
              "      <th>floors</th>\n",
              "      <td>0.256977</td>\n",
              "      <td>0.175454</td>\n",
              "      <td>0.500703</td>\n",
              "      <td>1.000000</td>\n",
              "      <td>0.024284</td>\n",
              "      <td>0.029431</td>\n",
              "      <td>-0.263824</td>\n",
              "      <td>0.458255</td>\n",
              "      <td>-0.245575</td>\n",
              "      <td>0.489399</td>\n",
              "      <td>0.005964</td>\n",
              "      <td>0.279959</td>\n",
              "      <td>-0.011221</td>\n",
              "    </tr>\n",
              "    <tr>\n",
              "      <th>waterfront</th>\n",
              "      <td>0.265662</td>\n",
              "      <td>-0.006392</td>\n",
              "      <td>0.063852</td>\n",
              "      <td>0.024284</td>\n",
              "      <td>1.000000</td>\n",
              "      <td>0.400964</td>\n",
              "      <td>0.017038</td>\n",
              "      <td>0.081994</td>\n",
              "      <td>0.079447</td>\n",
              "      <td>-0.026400</td>\n",
              "      <td>0.093412</td>\n",
              "      <td>0.085642</td>\n",
              "      <td>0.030659</td>\n",
              "    </tr>\n",
              "    <tr>\n",
              "      <th>view</th>\n",
              "      <td>0.397228</td>\n",
              "      <td>0.079470</td>\n",
              "      <td>0.188110</td>\n",
              "      <td>0.029431</td>\n",
              "      <td>0.400964</td>\n",
              "      <td>1.000000</td>\n",
              "      <td>0.045852</td>\n",
              "      <td>0.251145</td>\n",
              "      <td>0.276649</td>\n",
              "      <td>-0.053118</td>\n",
              "      <td>0.102603</td>\n",
              "      <td>0.280081</td>\n",
              "      <td>0.072563</td>\n",
              "    </tr>\n",
              "    <tr>\n",
              "      <th>condition</th>\n",
              "      <td>0.036493</td>\n",
              "      <td>0.028361</td>\n",
              "      <td>-0.124894</td>\n",
              "      <td>-0.263824</td>\n",
              "      <td>0.017038</td>\n",
              "      <td>0.045852</td>\n",
              "      <td>1.000000</td>\n",
              "      <td>-0.144592</td>\n",
              "      <td>0.174143</td>\n",
              "      <td>-0.361273</td>\n",
              "      <td>-0.061113</td>\n",
              "      <td>-0.092833</td>\n",
              "      <td>-0.003436</td>\n",
              "    </tr>\n",
              "    <tr>\n",
              "      <th>grade</th>\n",
              "      <td>0.667418</td>\n",
              "      <td>0.357110</td>\n",
              "      <td>0.665042</td>\n",
              "      <td>0.458255</td>\n",
              "      <td>0.081994</td>\n",
              "      <td>0.251145</td>\n",
              "      <td>-0.144592</td>\n",
              "      <td>1.000000</td>\n",
              "      <td>0.168295</td>\n",
              "      <td>0.446982</td>\n",
              "      <td>0.014351</td>\n",
              "      <td>0.713160</td>\n",
              "      <td>0.119271</td>\n",
              "    </tr>\n",
              "    <tr>\n",
              "      <th>sqft_basement</th>\n",
              "      <td>0.323625</td>\n",
              "      <td>0.303157</td>\n",
              "      <td>0.283882</td>\n",
              "      <td>-0.245575</td>\n",
              "      <td>0.079447</td>\n",
              "      <td>0.276649</td>\n",
              "      <td>0.174143</td>\n",
              "      <td>0.168295</td>\n",
              "      <td>1.000000</td>\n",
              "      <td>-0.133058</td>\n",
              "      <td>0.071353</td>\n",
              "      <td>0.200179</td>\n",
              "      <td>0.017216</td>\n",
              "    </tr>\n",
              "    <tr>\n",
              "      <th>yr_built</th>\n",
              "      <td>0.053948</td>\n",
              "      <td>0.154380</td>\n",
              "      <td>0.505973</td>\n",
              "      <td>0.489399</td>\n",
              "      <td>-0.026400</td>\n",
              "      <td>-0.053118</td>\n",
              "      <td>-0.361273</td>\n",
              "      <td>0.446982</td>\n",
              "      <td>-0.133058</td>\n",
              "      <td>1.000000</td>\n",
              "      <td>-0.224581</td>\n",
              "      <td>0.326370</td>\n",
              "      <td>0.071036</td>\n",
              "    </tr>\n",
              "    <tr>\n",
              "      <th>yr_renovated</th>\n",
              "      <td>0.126617</td>\n",
              "      <td>0.018546</td>\n",
              "      <td>0.051022</td>\n",
              "      <td>0.005964</td>\n",
              "      <td>0.093412</td>\n",
              "      <td>0.102603</td>\n",
              "      <td>-0.061113</td>\n",
              "      <td>0.014351</td>\n",
              "      <td>0.071353</td>\n",
              "      <td>-0.224581</td>\n",
              "      <td>1.000000</td>\n",
              "      <td>-0.002990</td>\n",
              "      <td>0.007822</td>\n",
              "    </tr>\n",
              "    <tr>\n",
              "      <th>sqft_living15</th>\n",
              "      <td>0.585284</td>\n",
              "      <td>0.391707</td>\n",
              "      <td>0.568736</td>\n",
              "      <td>0.279959</td>\n",
              "      <td>0.085642</td>\n",
              "      <td>0.280081</td>\n",
              "      <td>-0.092833</td>\n",
              "      <td>0.713160</td>\n",
              "      <td>0.200179</td>\n",
              "      <td>0.326370</td>\n",
              "      <td>-0.002990</td>\n",
              "      <td>1.000000</td>\n",
              "      <td>0.183191</td>\n",
              "    </tr>\n",
              "    <tr>\n",
              "      <th>sqft_lot15</th>\n",
              "      <td>0.082442</td>\n",
              "      <td>0.029226</td>\n",
              "      <td>0.087205</td>\n",
              "      <td>-0.011221</td>\n",
              "      <td>0.030659</td>\n",
              "      <td>0.072563</td>\n",
              "      <td>-0.003436</td>\n",
              "      <td>0.119271</td>\n",
              "      <td>0.017216</td>\n",
              "      <td>0.071036</td>\n",
              "      <td>0.007822</td>\n",
              "      <td>0.183191</td>\n",
              "      <td>1.000000</td>\n",
              "    </tr>\n",
              "  </tbody>\n",
              "</table>\n",
              "</div>"
            ],
            "text/plain": [
              "                  price  bedrooms  ...  sqft_living15  sqft_lot15\n",
              "price          1.000000  0.308468  ...       0.585284    0.082442\n",
              "bedrooms       0.308468  1.000000  ...       0.391707    0.029226\n",
              "bathrooms      0.525224  0.515992  ...       0.568736    0.087205\n",
              "floors         0.256977  0.175454  ...       0.279959   -0.011221\n",
              "waterfront     0.265662 -0.006392  ...       0.085642    0.030659\n",
              "view           0.397228  0.079470  ...       0.280081    0.072563\n",
              "condition      0.036493  0.028361  ...      -0.092833   -0.003436\n",
              "grade          0.667418  0.357110  ...       0.713160    0.119271\n",
              "sqft_basement  0.323625  0.303157  ...       0.200179    0.017216\n",
              "yr_built       0.053948  0.154380  ...       0.326370    0.071036\n",
              "yr_renovated   0.126617  0.018546  ...      -0.002990    0.007822\n",
              "sqft_living15  0.585284  0.391707  ...       1.000000    0.183191\n",
              "sqft_lot15     0.082442  0.029226  ...       0.183191    1.000000\n",
              "\n",
              "[13 rows x 13 columns]"
            ]
          },
          "metadata": {
            "tags": []
          },
          "execution_count": 26
        }
      ]
    },
    {
      "cell_type": "code",
      "metadata": {
        "id": "Ad8Dhf19lQte",
        "colab_type": "code",
        "outputId": "ac1b2f7e-5faf-45cb-a24f-70a5fe2133e0",
        "colab": {
          "base_uri": "https://localhost:8080/",
          "height": 470
        }
      },
      "source": [
        "#Compute the variation inflation factor\n",
        "vif_data = pd.DataFrame(np.linalg.inv(correlation.values), index  = correlation.index, columns = correlation.columns)\n",
        "vif_data"
      ],
      "execution_count": 0,
      "outputs": [
        {
          "output_type": "execute_result",
          "data": {
            "text/html": [
              "<div>\n",
              "<style scoped>\n",
              "    .dataframe tbody tr th:only-of-type {\n",
              "        vertical-align: middle;\n",
              "    }\n",
              "\n",
              "    .dataframe tbody tr th {\n",
              "        vertical-align: top;\n",
              "    }\n",
              "\n",
              "    .dataframe thead th {\n",
              "        text-align: right;\n",
              "    }\n",
              "</style>\n",
              "<table border=\"1\" class=\"dataframe\">\n",
              "  <thead>\n",
              "    <tr style=\"text-align: right;\">\n",
              "      <th></th>\n",
              "      <th>price</th>\n",
              "      <th>bedrooms</th>\n",
              "      <th>bathrooms</th>\n",
              "      <th>floors</th>\n",
              "      <th>waterfront</th>\n",
              "      <th>view</th>\n",
              "      <th>condition</th>\n",
              "      <th>grade</th>\n",
              "      <th>sqft_basement</th>\n",
              "      <th>yr_built</th>\n",
              "      <th>yr_renovated</th>\n",
              "      <th>sqft_living15</th>\n",
              "      <th>sqft_lot15</th>\n",
              "    </tr>\n",
              "  </thead>\n",
              "  <tbody>\n",
              "    <tr>\n",
              "      <th>price</th>\n",
              "      <td>2.676479</td>\n",
              "      <td>0.088343</td>\n",
              "      <td>-0.510545</td>\n",
              "      <td>-0.192960</td>\n",
              "      <td>-0.385865</td>\n",
              "      <td>-0.234287</td>\n",
              "      <td>-0.086015</td>\n",
              "      <td>-1.325992</td>\n",
              "      <td>-0.259261</td>\n",
              "      <td>0.834933</td>\n",
              "      <td>-0.035059</td>\n",
              "      <td>-0.447172</td>\n",
              "      <td>0.033155</td>\n",
              "    </tr>\n",
              "    <tr>\n",
              "      <th>bedrooms</th>\n",
              "      <td>0.088343</td>\n",
              "      <td>1.484855</td>\n",
              "      <td>-0.708720</td>\n",
              "      <td>-0.015781</td>\n",
              "      <td>0.027980</td>\n",
              "      <td>0.118599</td>\n",
              "      <td>-0.061798</td>\n",
              "      <td>0.010590</td>\n",
              "      <td>-0.226717</td>\n",
              "      <td>0.183909</td>\n",
              "      <td>0.035057</td>\n",
              "      <td>-0.297536</td>\n",
              "      <td>0.045079</td>\n",
              "    </tr>\n",
              "    <tr>\n",
              "      <th>bathrooms</th>\n",
              "      <td>-0.510545</td>\n",
              "      <td>-0.708720</td>\n",
              "      <td>3.115490</td>\n",
              "      <td>-0.757037</td>\n",
              "      <td>0.054377</td>\n",
              "      <td>0.014931</td>\n",
              "      <td>-0.111148</td>\n",
              "      <td>-0.424711</td>\n",
              "      <td>-0.672233</td>\n",
              "      <td>-0.983811</td>\n",
              "      <td>-0.257316</td>\n",
              "      <td>-0.237044</td>\n",
              "      <td>-0.042958</td>\n",
              "    </tr>\n",
              "    <tr>\n",
              "      <th>floors</th>\n",
              "      <td>-0.192960</td>\n",
              "      <td>-0.015781</td>\n",
              "      <td>-0.757037</td>\n",
              "      <td>1.904907</td>\n",
              "      <td>0.012574</td>\n",
              "      <td>-0.039885</td>\n",
              "      <td>0.141662</td>\n",
              "      <td>-0.363535</td>\n",
              "      <td>0.705536</td>\n",
              "      <td>-0.331211</td>\n",
              "      <td>-0.056131</td>\n",
              "      <td>0.244102</td>\n",
              "      <td>0.117218</td>\n",
              "    </tr>\n",
              "    <tr>\n",
              "      <th>waterfront</th>\n",
              "      <td>-0.385865</td>\n",
              "      <td>0.027980</td>\n",
              "      <td>0.054377</td>\n",
              "      <td>0.012574</td>\n",
              "      <td>1.255227</td>\n",
              "      <td>-0.456861</td>\n",
              "      <td>-0.003087</td>\n",
              "      <td>0.207464</td>\n",
              "      <td>0.066076</td>\n",
              "      <td>-0.134427</td>\n",
              "      <td>-0.062625</td>\n",
              "      <td>0.085009</td>\n",
              "      <td>-0.010366</td>\n",
              "    </tr>\n",
              "    <tr>\n",
              "      <th>view</th>\n",
              "      <td>-0.234287</td>\n",
              "      <td>0.118599</td>\n",
              "      <td>0.014931</td>\n",
              "      <td>-0.039885</td>\n",
              "      <td>-0.456861</td>\n",
              "      <td>1.421713</td>\n",
              "      <td>-0.000036</td>\n",
              "      <td>-0.055871</td>\n",
              "      <td>-0.261047</td>\n",
              "      <td>0.123623</td>\n",
              "      <td>-0.029417</td>\n",
              "      <td>-0.207763</td>\n",
              "      <td>-0.034391</td>\n",
              "    </tr>\n",
              "    <tr>\n",
              "      <th>condition</th>\n",
              "      <td>-0.086015</td>\n",
              "      <td>-0.061798</td>\n",
              "      <td>-0.111148</td>\n",
              "      <td>0.141662</td>\n",
              "      <td>-0.003087</td>\n",
              "      <td>-0.000036</td>\n",
              "      <td>1.224088</td>\n",
              "      <td>0.036560</td>\n",
              "      <td>-0.072966</td>\n",
              "      <td>0.443134</td>\n",
              "      <td>0.196524</td>\n",
              "      <td>0.060678</td>\n",
              "      <td>-0.022753</td>\n",
              "    </tr>\n",
              "    <tr>\n",
              "      <th>grade</th>\n",
              "      <td>-1.325992</td>\n",
              "      <td>0.010590</td>\n",
              "      <td>-0.424711</td>\n",
              "      <td>-0.363535</td>\n",
              "      <td>0.207464</td>\n",
              "      <td>-0.055871</td>\n",
              "      <td>0.036560</td>\n",
              "      <td>3.433185</td>\n",
              "      <td>0.001108</td>\n",
              "      <td>-0.702630</td>\n",
              "      <td>-0.030171</td>\n",
              "      <td>-1.099548</td>\n",
              "      <td>-0.018138</td>\n",
              "    </tr>\n",
              "    <tr>\n",
              "      <th>sqft_basement</th>\n",
              "      <td>-0.259261</td>\n",
              "      <td>-0.226717</td>\n",
              "      <td>-0.672233</td>\n",
              "      <td>0.705536</td>\n",
              "      <td>0.066076</td>\n",
              "      <td>-0.261047</td>\n",
              "      <td>-0.072966</td>\n",
              "      <td>0.001108</td>\n",
              "      <td>1.600277</td>\n",
              "      <td>0.185498</td>\n",
              "      <td>0.010603</td>\n",
              "      <td>0.094697</td>\n",
              "      <td>0.052914</td>\n",
              "    </tr>\n",
              "    <tr>\n",
              "      <th>yr_built</th>\n",
              "      <td>0.834933</td>\n",
              "      <td>0.183909</td>\n",
              "      <td>-0.983811</td>\n",
              "      <td>-0.331211</td>\n",
              "      <td>-0.134427</td>\n",
              "      <td>0.123623</td>\n",
              "      <td>0.443134</td>\n",
              "      <td>-0.702630</td>\n",
              "      <td>0.185498</td>\n",
              "      <td>2.246344</td>\n",
              "      <td>0.471284</td>\n",
              "      <td>-0.148896</td>\n",
              "      <td>-0.050829</td>\n",
              "    </tr>\n",
              "    <tr>\n",
              "      <th>yr_renovated</th>\n",
              "      <td>-0.035059</td>\n",
              "      <td>0.035057</td>\n",
              "      <td>-0.257316</td>\n",
              "      <td>-0.056131</td>\n",
              "      <td>-0.062625</td>\n",
              "      <td>-0.029417</td>\n",
              "      <td>0.196524</td>\n",
              "      <td>-0.030171</td>\n",
              "      <td>0.010603</td>\n",
              "      <td>0.471284</td>\n",
              "      <td>1.144060</td>\n",
              "      <td>0.074126</td>\n",
              "      <td>-0.024185</td>\n",
              "    </tr>\n",
              "    <tr>\n",
              "      <th>sqft_living15</th>\n",
              "      <td>-0.447172</td>\n",
              "      <td>-0.297536</td>\n",
              "      <td>-0.237044</td>\n",
              "      <td>0.244102</td>\n",
              "      <td>0.085009</td>\n",
              "      <td>-0.207763</td>\n",
              "      <td>0.060678</td>\n",
              "      <td>-1.099548</td>\n",
              "      <td>0.094697</td>\n",
              "      <td>-0.148896</td>\n",
              "      <td>0.074126</td>\n",
              "      <td>2.353780</td>\n",
              "      <td>-0.210031</td>\n",
              "    </tr>\n",
              "    <tr>\n",
              "      <th>sqft_lot15</th>\n",
              "      <td>0.033155</td>\n",
              "      <td>0.045079</td>\n",
              "      <td>-0.042958</td>\n",
              "      <td>0.117218</td>\n",
              "      <td>-0.010366</td>\n",
              "      <td>-0.034391</td>\n",
              "      <td>-0.022753</td>\n",
              "      <td>-0.018138</td>\n",
              "      <td>0.052914</td>\n",
              "      <td>-0.050829</td>\n",
              "      <td>-0.024185</td>\n",
              "      <td>-0.210031</td>\n",
              "      <td>1.047274</td>\n",
              "    </tr>\n",
              "  </tbody>\n",
              "</table>\n",
              "</div>"
            ],
            "text/plain": [
              "                  price  bedrooms  ...  sqft_living15  sqft_lot15\n",
              "price          2.676479  0.088343  ...      -0.447172    0.033155\n",
              "bedrooms       0.088343  1.484855  ...      -0.297536    0.045079\n",
              "bathrooms     -0.510545 -0.708720  ...      -0.237044   -0.042958\n",
              "floors        -0.192960 -0.015781  ...       0.244102    0.117218\n",
              "waterfront    -0.385865  0.027980  ...       0.085009   -0.010366\n",
              "view          -0.234287  0.118599  ...      -0.207763   -0.034391\n",
              "condition     -0.086015 -0.061798  ...       0.060678   -0.022753\n",
              "grade         -1.325992  0.010590  ...      -1.099548   -0.018138\n",
              "sqft_basement -0.259261 -0.226717  ...       0.094697    0.052914\n",
              "yr_built       0.834933  0.183909  ...      -0.148896   -0.050829\n",
              "yr_renovated  -0.035059  0.035057  ...       0.074126   -0.024185\n",
              "sqft_living15 -0.447172 -0.297536  ...       2.353780   -0.210031\n",
              "sqft_lot15     0.033155  0.045079  ...      -0.210031    1.047274\n",
              "\n",
              "[13 rows x 13 columns]"
            ]
          },
          "metadata": {
            "tags": []
          },
          "execution_count": 27
        }
      ]
    },
    {
      "cell_type": "markdown",
      "metadata": {
        "id": "1FnoJE-3lfEV",
        "colab_type": "text"
      },
      "source": [
        "All the variables have VIF of less than 5 hence can be used for prediction."
      ]
    },
    {
      "cell_type": "markdown",
      "metadata": {
        "id": "5nG7u34LlzHd",
        "colab_type": "text"
      },
      "source": [
        "**PCA ANALYSIS**"
      ]
    },
    {
      "cell_type": "code",
      "metadata": {
        "id": "_aKFBnselQ5f",
        "colab_type": "code",
        "outputId": "849913dd-8148-4343-f0ad-0c16186fc276",
        "colab": {
          "base_uri": "https://localhost:8080/",
          "height": 86
        }
      },
      "source": [
        "final_df.columns"
      ],
      "execution_count": 0,
      "outputs": [
        {
          "output_type": "execute_result",
          "data": {
            "text/plain": [
              "Index(['price', 'bedrooms', 'bathrooms', 'floors', 'waterfront', 'view',\n",
              "       'condition', 'grade', 'sqft_basement', 'yr_built', 'yr_renovated',\n",
              "       'sqft_living15', 'sqft_lot15'],\n",
              "      dtype='object')"
            ]
          },
          "metadata": {
            "tags": []
          },
          "execution_count": 28
        }
      ]
    },
    {
      "cell_type": "code",
      "metadata": {
        "id": "UZt1X5bFlREz",
        "colab_type": "code",
        "colab": {}
      },
      "source": [
        "# obtaining the attributes and the label\n",
        "X = final_df[['bedrooms', 'bathrooms', 'floors', 'waterfront', 'view',\n",
        "       'condition', 'grade', 'sqft_basement', 'yr_built', 'yr_renovated',\n",
        "       'sqft_living15', 'sqft_lot15']].values\n",
        "y = np.log(final_df['price'])"
      ],
      "execution_count": 0,
      "outputs": []
    },
    {
      "cell_type": "code",
      "metadata": {
        "id": "J73QdYfvk252",
        "colab_type": "code",
        "colab": {}
      },
      "source": [
        "# splitting using train_test_split()\n",
        "X_train, X_test, y_train, y_test = train_test_split(X, y, test_size = 0.2, random_state = 0)"
      ],
      "execution_count": 0,
      "outputs": []
    },
    {
      "cell_type": "code",
      "metadata": {
        "id": "xH7WsC7cnqX3",
        "colab_type": "code",
        "colab": {}
      },
      "source": [
        "##Standardizing. StandardScaler subtracts the mean from each features and then scale to unit variance.\n",
        "\n",
        "sc = StandardScaler()\n",
        "X_train = sc.fit_transform(X_train)\n",
        "X_test = sc.transform(X_test)"
      ],
      "execution_count": 0,
      "outputs": []
    },
    {
      "cell_type": "code",
      "metadata": {
        "id": "eyRov0VInqjr",
        "colab_type": "code",
        "outputId": "0dc67698-2f49-415c-d328-d399b7bb16b9",
        "colab": {
          "base_uri": "https://localhost:8080/",
          "height": 638
        }
      },
      "source": [
        "print(pca.components_)\n"
      ],
      "execution_count": 0,
      "outputs": [
        {
          "output_type": "stream",
          "text": [
            "[[ 6.65154595e-07  2.21976668e-06 -2.53167844e-07  9.58114445e-08\n",
            "   2.00548846e-06 -1.53911324e-07  4.99461570e-06  1.42324752e-04\n",
            "   7.25930768e-05  7.79138535e-05  4.38873311e-03  9.99990354e-01]\n",
            " [-5.76899504e-04 -6.59764678e-04 -1.90819654e-04 -1.11428408e-05\n",
            "  -3.30177361e-04  6.31167701e-05 -1.20609394e-03 -2.12338072e-01\n",
            "  -1.25419294e-02 -4.76532316e-03 -9.77093395e-01  4.31975501e-03]\n",
            " [ 3.38247469e-04  1.79968581e-04 -3.87475819e-04  1.69046210e-05\n",
            "   3.62294706e-04  2.45271445e-04 -1.51727854e-04  8.89184937e-01\n",
            "  -2.06373987e-02  4.13406650e-01 -1.94982530e-01  6.98467372e-04]\n",
            " [-1.62271661e-04 -8.12559182e-06  2.17823127e-04  1.26660895e-05\n",
            "   8.30700666e-06 -2.47374644e-04  1.13309770e-04 -4.05097960e-01\n",
            "  -7.74711965e-03  9.10401560e-01  8.36918834e-02 -3.80020487e-04]\n",
            " [-3.13507698e-03 -1.18512427e-02 -7.92161302e-03  7.18957925e-05\n",
            "   2.51799806e-03  8.53406539e-03 -1.11396682e-02 -1.25511314e-02\n",
            "  -9.99469866e-01 -1.55243203e-02  1.56573088e-02  6.91308784e-06]\n",
            " [ 7.44536674e-01  3.86880541e-01  2.03966313e-01 -1.16303579e-03\n",
            "   1.03737008e-02  5.47059194e-02  5.01095934e-01 -6.30938112e-04\n",
            "  -1.36357117e-02 -2.60867766e-04 -1.04573455e-03  1.87201602e-06]\n",
            " [ 5.22401329e-01 -8.33273865e-02 -1.47060674e-01 -2.67952615e-02\n",
            "  -5.26845752e-01  4.92899094e-02 -6.46347946e-01  3.64552627e-05\n",
            "   6.81669473e-03  2.40193662e-04  6.59309488e-04  6.82980381e-07]\n",
            " [ 2.97455053e-01 -2.15907662e-02 -5.52830517e-02  4.08243827e-02\n",
            "   8.45836176e-01  8.24192294e-02 -4.29004662e-01 -3.90246142e-04\n",
            "   7.38632168e-03  1.46512320e-05  8.82581134e-05 -5.77893029e-07]\n",
            " [ 9.51656145e-02 -2.42309612e-02  8.18868149e-02  1.84808648e-03\n",
            "   4.27798881e-02 -9.89613839e-01 -4.90945524e-02  1.75605589e-04\n",
            "  -8.45322562e-03 -2.59659824e-04 -2.00788489e-06  6.35844285e-07]\n",
            " [ 2.61548201e-01 -7.23742538e-01 -5.11100204e-01 -1.97215680e-03\n",
            "   5.00371281e-02 -1.61329527e-02  3.79131399e-01 -5.67920046e-05\n",
            "   7.57084216e-03  1.62235918e-04 -1.37463365e-04 -6.43947599e-07]\n",
            " [ 8.24519002e-02 -5.64246694e-01  8.15916460e-01 -1.01640076e-03\n",
            "  -1.32727292e-02  9.00891240e-02 -2.85165730e-02  4.43566953e-04\n",
            "   1.01423100e-03  3.86003385e-05  1.08892192e-04  9.69573684e-07]\n",
            " [ 3.14811436e-03 -2.86003130e-03 -1.77797677e-03  9.98802126e-01\n",
            "  -4.86880278e-02 -9.24359138e-05  1.58972694e-03  4.83065703e-06\n",
            "  -3.10339446e-05 -1.10963880e-05  2.91618882e-06 -1.25718117e-08]]\n"
          ],
          "name": "stdout"
        }
      ]
    },
    {
      "cell_type": "code",
      "metadata": {
        "id": "qbjbsv3Znqt_",
        "colab_type": "code",
        "colab": {}
      },
      "source": [
        "#Perform the pca \n",
        "pca = PCA(n_components=12)\n",
        "X_train = pca.fit_transform(X_train)\n",
        "X_test = pca.transform(X_test)"
      ],
      "execution_count": 0,
      "outputs": []
    },
    {
      "cell_type": "code",
      "metadata": {
        "id": "1J8JH4dpoLjr",
        "colab_type": "code",
        "outputId": "9d507c26-4183-4b5b-a2f2-e86032d87b5e",
        "colab": {
          "base_uri": "https://localhost:8080/",
          "height": 68
        }
      },
      "source": [
        "#Get the explained variance ratio\n",
        "## The PCA class contains explained_variance_ratio_ which returns the variance caused by each of the principal components. \n",
        "\n",
        "pca.explained_variance_ratio_"
      ],
      "execution_count": 0,
      "outputs": [
        {
          "output_type": "execute_result",
          "data": {
            "text/plain": [
              "array([9.98948705e-01, 6.03168505e-04, 2.44592975e-04, 2.02630913e-04,\n",
              "       8.98812034e-07, 1.08073372e-09, 8.29499314e-10, 5.89706504e-10,\n",
              "       4.50172720e-10, 2.93785552e-10, 1.61689750e-10, 8.24294210e-12])"
            ]
          },
          "metadata": {
            "tags": []
          },
          "execution_count": 38
        }
      ]
    },
    {
      "cell_type": "markdown",
      "metadata": {
        "id": "sXdt22duodzQ",
        "colab_type": "text"
      },
      "source": [
        "**Multiple Linear Regression**"
      ]
    },
    {
      "cell_type": "code",
      "metadata": {
        "id": "YZiVsoY_ogHR",
        "colab_type": "code",
        "outputId": "cb9b2e19-766d-41dc-a241-6a14a29b80bf",
        "colab": {
          "base_uri": "https://localhost:8080/",
          "height": 34
        }
      },
      "source": [
        "regressor = LinearRegression()\n",
        "\n",
        "regressor.fit(X_train,y_train)"
      ],
      "execution_count": 0,
      "outputs": [
        {
          "output_type": "execute_result",
          "data": {
            "text/plain": [
              "LinearRegression(copy_X=True, fit_intercept=True, n_jobs=None, normalize=False)"
            ]
          },
          "metadata": {
            "tags": []
          },
          "execution_count": 41
        }
      ]
    },
    {
      "cell_type": "code",
      "metadata": {
        "id": "btY-Olw0oZJk",
        "colab_type": "code",
        "outputId": "813b1940-7c24-4016-eae8-5cebe0cc5aec",
        "colab": {
          "base_uri": "https://localhost:8080/",
          "height": 34
        }
      },
      "source": [
        "#Check the intercept\n",
        "regressor.intercept_"
      ],
      "execution_count": 0,
      "outputs": [
        {
          "output_type": "execute_result",
          "data": {
            "text/plain": [
              "13.048026370677327"
            ]
          },
          "metadata": {
            "tags": []
          },
          "execution_count": 42
        }
      ]
    },
    {
      "cell_type": "code",
      "metadata": {
        "id": "2ARPo0J0SMVO",
        "colab_type": "code",
        "outputId": "f7f9ff17-80fe-4d43-a546-b79f16ba57f8",
        "colab": {
          "base_uri": "https://localhost:8080/",
          "height": 68
        }
      },
      "source": [
        "#Check the coefficient\n",
        "regressor.coef_"
      ],
      "execution_count": 0,
      "outputs": [
        {
          "output_type": "execute_result",
          "data": {
            "text/plain": [
              "array([ 1.72716772e-06, -4.89377057e-04,  1.71994970e-04,  7.01055961e-05,\n",
              "        1.28197359e-03,  1.83684095e-01, -2.05773868e-01, -5.86577382e-02,\n",
              "       -4.11755189e-02, -6.01518152e-02,  4.52622661e-02,  3.65357127e-01])"
            ]
          },
          "metadata": {
            "tags": []
          },
          "execution_count": 43
        }
      ]
    },
    {
      "cell_type": "code",
      "metadata": {
        "id": "gUQ3Key3SMfZ",
        "colab_type": "code",
        "outputId": "352843af-f449-483c-d8a9-3989956d14b2",
        "colab": {
          "base_uri": "https://localhost:8080/",
          "height": 51
        }
      },
      "source": [
        "# model prediction\n",
        "y_pred = regressor.predict(X_test)\n",
        "y_pred"
      ],
      "execution_count": 0,
      "outputs": [
        {
          "output_type": "execute_result",
          "data": {
            "text/plain": [
              "array([12.93898854, 12.88680052, 12.78560282, ..., 12.33671646,\n",
              "       13.25605305, 12.69597704])"
            ]
          },
          "metadata": {
            "tags": []
          },
          "execution_count": 44
        }
      ]
    },
    {
      "cell_type": "code",
      "metadata": {
        "id": "-RuMhIb7SMnl",
        "colab_type": "code",
        "outputId": "7b267c7e-541a-4b76-c951-0dd0c670fa56",
        "colab": {
          "base_uri": "https://localhost:8080/",
          "height": 68
        }
      },
      "source": [
        "#check how accurate our model will be \n",
        "\n",
        "print('Mean Absolute Error:', metrics.mean_absolute_error(y_test, y_pred))  \n",
        "print('Mean Squared Error:', metrics.mean_squared_error(y_test, y_pred))  \n",
        "print('Root Mean Squared Error:', np.sqrt(metrics.mean_squared_error(y_test, y_pred)))"
      ],
      "execution_count": 0,
      "outputs": [
        {
          "output_type": "stream",
          "text": [
            "Mean Absolute Error: 0.24641023599545614\n",
            "Mean Squared Error: 0.09518467807405337\n",
            "Root Mean Squared Error: 0.308520142088087\n"
          ],
          "name": "stdout"
        }
      ]
    },
    {
      "cell_type": "code",
      "metadata": {
        "id": "q10arKNKSMvN",
        "colab_type": "code",
        "outputId": "d3635ced-02d8-4919-a543-3e659f50fa05",
        "colab": {
          "base_uri": "https://localhost:8080/",
          "height": 34
        }
      },
      "source": [
        "#The coefficient of multiple determination for multiple regression.\n",
        "r2_score(y_test,y_pred)"
      ],
      "execution_count": 0,
      "outputs": [
        {
          "output_type": "execute_result",
          "data": {
            "text/plain": [
              "0.6551737657960669"
            ]
          },
          "metadata": {
            "tags": []
          },
          "execution_count": 46
        }
      ]
    },
    {
      "cell_type": "markdown",
      "metadata": {
        "id": "KtAFJMy3SziX",
        "colab_type": "text"
      },
      "source": [
        "The R-squared is 65%  and it shows that the fitted values are almost equal to the observed values therefore, most of the data points would fall on the fitted regression line.\n",
        "\n",
        "R-squared cannot determine whether the coefficient estimates and predictions are biased,we use residual plots to assess that "
      ]
    },
    {
      "cell_type": "markdown",
      "metadata": {
        "id": "g9OqPSUbTy7N",
        "colab_type": "text"
      },
      "source": [
        "**Residual plots**"
      ]
    },
    {
      "cell_type": "code",
      "metadata": {
        "id": "u_rHu4HZTiGL",
        "colab_type": "code",
        "outputId": "1b1b178e-9dd3-4364-bb87-23f1932b005a",
        "colab": {
          "base_uri": "https://localhost:8080/",
          "height": 207
        }
      },
      "source": [
        "#Calculate residuals\n",
        "residuals = np.subtract(y_pred, y_test)\n",
        "\n",
        "#describing our residual:\n",
        "print(pd.DataFrame(residuals).describe())\n",
        "print()\n",
        "print(residuals.mean())"
      ],
      "execution_count": 0,
      "outputs": [
        {
          "output_type": "stream",
          "text": [
            "             price\n",
            "count  4322.000000\n",
            "mean      0.007739\n",
            "std       0.308459\n",
            "min      -1.227591\n",
            "25%      -0.203013\n",
            "50%      -0.001822\n",
            "75%       0.221468\n",
            "max       1.480763\n",
            "\n",
            "0.0077391894381134895\n"
          ],
          "name": "stdout"
        }
      ]
    },
    {
      "cell_type": "code",
      "metadata": {
        "id": "4mH_iGZvSM3L",
        "colab_type": "code",
        "outputId": "743d0dee-3b4b-4fd8-b101-f68fc7e896d6",
        "colab": {
          "base_uri": "https://localhost:8080/",
          "height": 299
        }
      },
      "source": [
        "plt.scatter(y_pred, residuals, color='green')\n",
        "plt.ylabel('residual',fontsize = 14)\n",
        "plt.xlabel('fitted values',fontsize = 14)\n",
        "plt.axhline(y= residuals.mean(), color='orange', linewidth=1)\n",
        "plt.title('Residual plots')\n",
        "plt.show()"
      ],
      "execution_count": 0,
      "outputs": [
        {
          "output_type": "display_data",
          "data": {
            "image/png": "[encoded data removed]",
            "text/plain": [
              "<Figure size 432x288 with 1 Axes>"
            ]
          },
          "metadata": {
            "tags": []
          }
        }
      ]
    },
    {
      "cell_type": "markdown",
      "metadata": {
        "id": "6RpAVpoWU0ET",
        "colab_type": "text"
      },
      "source": [
        "The residuals are not plotted close to the mean of 0.007 hence there is no pattern"
      ]
    },
    {
      "cell_type": "markdown",
      "metadata": {
        "id": "-6lELfaIVO2s",
        "colab_type": "text"
      },
      "source": [
        "**Heteroskedasticity**"
      ]
    },
    {
      "cell_type": "code",
      "metadata": {
        "id": "nFuqToWtVEYb",
        "colab_type": "code",
        "outputId": "9e74363f-3eec-4e47-8bcb-fb265fa581ff",
        "colab": {
          "base_uri": "https://localhost:8080/",
          "height": 34
        }
      },
      "source": [
        "test_result, p_value = sp.stats.bartlett(y_pred, residuals)\n",
        "\n",
        "# compute the critical value of the chi squared distribution\n",
        "degree_of_freedom = len(y_pred)-1\n",
        "probability = 1 - p_value\n",
        "\n",
        "critical_value = sp.stats.chi2.ppf(probability, degree_of_freedom)\n",
        "\n",
        "# If the test_result is greater than the critical value, reject the null hypothesis. \n",
        "# This means there are patterns to the variance of the data\n",
        "\n",
        "# Otherwise, identify no patterns, and  accept the null hypothesis \n",
        "# The variance is homogeneous across our data\n",
        "\n",
        "if(test_result > critical_value):\n",
        "    print(\"the variances are unequal, and the model should be reassessed\")\n",
        "else:\n",
        "    print(\"The variances are homogeneous!\")"
      ],
      "execution_count": 0,
      "outputs": [
        {
          "output_type": "stream",
          "text": [
            "The variances are homogeneous!\n"
          ],
          "name": "stdout"
        }
      ]
    },
    {
      "cell_type": "markdown",
      "metadata": {
        "id": "AjkKoFn_d7SF",
        "colab_type": "text"
      },
      "source": [
        "**Quantile regression**"
      ]
    },
    {
      "cell_type": "code",
      "metadata": {
        "id": "U3X-LlTgeByP",
        "colab_type": "code",
        "colab": {}
      },
      "source": [
        "#perform a train and a test for the model\n",
        "X_train, X_test, y_train, y_test = train_test_split(X, y, test_size=0.2, random_state=50)"
      ],
      "execution_count": 0,
      "outputs": []
    },
    {
      "cell_type": "code",
      "metadata": {
        "id": "mCRax2-6U9Ua",
        "colab_type": "code",
        "outputId": "b1b94c53-85e7-4c83-86ae-c6ad2f5fd03a",
        "colab": {
          "base_uri": "https://localhost:8080/",
          "height": 555
        }
      },
      "source": [
        "#Regression coefficients for the conditioned median, 0.5 quantile\n",
        "\n",
        "import statsmodels.formula.api as smf\n",
        "mod = smf.quantreg('y ~ X', final_df)\n",
        "res = mod.fit(q=.5)\n",
        "\n",
        "\n",
        "print(res.summary())"
      ],
      "execution_count": 0,
      "outputs": [
        {
          "output_type": "stream",
          "text": [
            "                         QuantReg Regression Results                          \n",
            "==============================================================================\n",
            "Dep. Variable:                      y   Pseudo R-squared:               0.4019\n",
            "Model:                       QuantReg   Bandwidth:                     0.05413\n",
            "Method:                 Least Squares   Sparsity:                       0.7952\n",
            "Date:                Sat, 06 Jun 2020   No. Observations:                21606\n",
            "Time:                        11:52:18   Df Residuals:                    21593\n",
            "                                        Df Model:                           12\n",
            "==============================================================================\n",
            "                 coef    std err          t      P>|t|      [0.025      0.975]\n",
            "------------------------------------------------------------------------------\n",
            "Intercept     22.3872      0.254     88.067      0.000      21.889      22.885\n",
            "X[0]          -0.0113      0.004     -3.203      0.001      -0.018      -0.004\n",
            "X[1]           0.1004      0.006     16.454      0.000       0.088       0.112\n",
            "X[2]           0.1436      0.007     20.842      0.000       0.130       0.157\n",
            "X[3]           0.4022      0.034     11.711      0.000       0.335       0.470\n",
            "X[4]           0.0324      0.004      7.748      0.000       0.024       0.041\n",
            "X[5]           0.0446      0.005      9.711      0.000       0.036       0.054\n",
            "X[6]           0.2314      0.004     60.360      0.000       0.224       0.239\n",
            "X[7]           0.0001   7.67e-06     18.862      0.000       0.000       0.000\n",
            "X[8]          -0.0061      0.000    -46.866      0.000      -0.006      -0.006\n",
            "X[9]        4.688e-06   7.21e-06      0.650      0.515   -9.44e-06    1.88e-05\n",
            "X[10]          0.0001   5.96e-06     24.973      0.000       0.000       0.000\n",
            "X[11]      -7.211e-08   1.01e-07     -0.712      0.477   -2.71e-07    1.27e-07\n",
            "==============================================================================\n",
            "\n",
            "The condition number is large, 2.84e+06. This might indicate that there are\n",
            "strong multicollinearity or other numerical problems.\n"
          ],
          "name": "stdout"
        },
        {
          "output_type": "stream",
          "text": [
            "/usr/local/lib/python3.6/dist-packages/statsmodels/regression/quantile_regression.py:192: IterationLimitWarning: Maximum number of iterations (1000) reached.\n",
            "  \") reached.\", IterationLimitWarning)\n"
          ],
          "name": "stderr"
        }
      ]
    },
    {
      "cell_type": "code",
      "metadata": {
        "id": "QVeerRTqU95z",
        "colab_type": "code",
        "colab": {}
      },
      "source": [
        "final_df1 = final_df.copy()\n"
      ],
      "execution_count": 0,
      "outputs": []
    },
    {
      "cell_type": "code",
      "metadata": {
        "id": "L8DpSk1XUrUQ",
        "colab_type": "code",
        "outputId": "f1f4304f-cfc7-472f-a500-6268f5296448",
        "colab": {
          "base_uri": "https://localhost:8080/",
          "height": 34
        }
      },
      "source": [
        "cols = final_df1.columns[final_df1.dtypes.eq('object')]\n",
        "cols"
      ],
      "execution_count": 0,
      "outputs": [
        {
          "output_type": "execute_result",
          "data": {
            "text/plain": [
              "Index([], dtype='object')"
            ]
          },
          "metadata": {
            "tags": []
          },
          "execution_count": 73
        }
      ]
    },
    {
      "cell_type": "markdown",
      "metadata": {
        "id": "aaKpoMHyvBGB",
        "colab_type": "text"
      },
      "source": [
        "**Ridge Regression**"
      ]
    },
    {
      "cell_type": "code",
      "metadata": {
        "id": "55u98-n4vJs4",
        "colab_type": "code",
        "colab": {}
      },
      "source": [
        "X_train, X_test, y_train, y_test = train_test_split(X, y, test_size=0.2, random_state=50)\n"
      ],
      "execution_count": 0,
      "outputs": []
    },
    {
      "cell_type": "code",
      "metadata": {
        "id": "cf_PXGdVwGPE",
        "colab_type": "code",
        "colab": {}
      },
      "source": [
        "ridge = Ridge(normalize=True)\n",
        "search = GridSearchCV(estimator=ridge,param_grid={'alpha':np.logspace(-5,2,8)},scoring='neg_mean_squared_error',n_jobs=1,refit=True,cv=5)"
      ],
      "execution_count": 0,
      "outputs": []
    },
    {
      "cell_type": "code",
      "metadata": {
        "id": "JOS9dju2wGcx",
        "colab_type": "code",
        "outputId": "0cea93b3-bf54-460f-8345-6a0e36be527f",
        "colab": {
          "base_uri": "https://localhost:8080/",
          "height": 34
        }
      },
      "source": [
        "#determine the strength of the model using best params and best score\n",
        "search.fit(X_train,y_train)\n",
        "search.best_params_\n",
        "{'alpha': 0.001}\n",
        "abs(search.best_score_)"
      ],
      "execution_count": 0,
      "outputs": [
        {
          "output_type": "execute_result",
          "data": {
            "text/plain": [
              "0.09648596815746524"
            ]
          },
          "metadata": {
            "tags": []
          },
          "execution_count": 76
        }
      ]
    },
    {
      "cell_type": "markdown",
      "metadata": {
        "id": "Y27vMmAAxA8S",
        "colab_type": "text"
      },
      "source": [
        "Best score == MSE"
      ]
    },
    {
      "cell_type": "code",
      "metadata": {
        "id": "u1iY1ZNJwwDc",
        "colab_type": "code",
        "outputId": "607b7ab9-1c3c-49be-da50-487c1ea56f30",
        "colab": {
          "base_uri": "https://localhost:8080/",
          "height": 34
        }
      },
      "source": [
        "# Create another model\n",
        "ridge = Ridge(normalize=True,alpha=0.001)\n",
        "ridge.fit(X_train,y_train)\n",
        "second_model = (mean_squared_error(y_true=y,y_pred=ridge.predict(X)))\n",
        "print(second_model)"
      ],
      "execution_count": 0,
      "outputs": [
        {
          "output_type": "stream",
          "text": [
            "0.09729332997902491\n"
          ],
          "name": "stdout"
        }
      ]
    },
    {
      "cell_type": "code",
      "metadata": {
        "id": "3TUUQqUTwGlv",
        "colab_type": "code",
        "outputId": "8b8297ab-e459-4ff5-8180-d81a2a65c495",
        "colab": {
          "base_uri": "https://localhost:8080/",
          "height": 51
        }
      },
      "source": [
        "# Predict using the model\n",
        "y_pred=ridge.predict(X)\n",
        "y_pred"
      ],
      "execution_count": 0,
      "outputs": [
        {
          "output_type": "execute_result",
          "data": {
            "text/plain": [
              "array([12.64260605, 13.06634894, 12.75187363, ..., 12.40048193,\n",
              "       12.89518962, 12.40619416])"
            ]
          },
          "metadata": {
            "tags": []
          },
          "execution_count": 78
        }
      ]
    },
    {
      "cell_type": "code",
      "metadata": {
        "id": "_I-0EmPzwG4S",
        "colab_type": "code",
        "outputId": "92403f32-9e32-44a4-bd2d-7eb796d1d17e",
        "colab": {
          "base_uri": "https://localhost:8080/",
          "height": 224
        }
      },
      "source": [
        "coef_dict_baseline = {}\n",
        "for coef, feat in zip(ridge.coef_,final_df1.columns):\n",
        "    coef_dict_baseline[feat] = coef\n",
        "coef_dict_baseline"
      ],
      "execution_count": 0,
      "outputs": [
        {
          "output_type": "execute_result",
          "data": {
            "text/plain": [
              "{'bathrooms': 0.07151575718004452,\n",
              " 'bedrooms': 0.08029894513228623,\n",
              " 'condition': 0.2699828303152096,\n",
              " 'floors': 0.03183056042517174,\n",
              " 'grade': 0.05847381835384764,\n",
              " 'price': -0.0046847191618275595,\n",
              " 'sqft_basement': -0.16601930961703187,\n",
              " 'sqft_living15': -0.0025162420942476697,\n",
              " 'view': 0.026559927936795638,\n",
              " 'waterfront': 0.02831615527408128,\n",
              " 'yr_built': 0.006551617963123609,\n",
              " 'yr_renovated': 0.10419436327280285}"
            ]
          },
          "metadata": {
            "tags": []
          },
          "execution_count": 79
        }
      ]
    },
    {
      "cell_type": "markdown",
      "metadata": {
        "id": "k_xizBdSz9X_",
        "colab_type": "text"
      },
      "source": [
        "The difference between the model of Multiple linear regression and Ridge regression is very small.\n",
        "\n",
        "perform anothermodel to see if the accuracy level is almost the same as the above models\n",
        "\n",
        "A model with the highest R-squared score will give us the best target parameters for model prediction in Lasso regression."
      ]
    },
    {
      "cell_type": "markdown",
      "metadata": {
        "id": "1C8dHto71m9K",
        "colab_type": "text"
      },
      "source": [
        "**Lasso Regression**"
      ]
    },
    {
      "cell_type": "code",
      "metadata": {
        "id": "szjCMHMo1lSW",
        "colab_type": "code",
        "colab": {}
      },
      "source": [
        "from sklearn import linear_model\n",
        "from sklearn.metrics import mean_squared_error\n",
        "\n",
        "# Step 1\n",
        "#Scaling the data\n",
        "scaler = StandardScaler()\n",
        "scaler.fit(X)\n",
        "X = scaler.transform(X)"
      ],
      "execution_count": 0,
      "outputs": []
    },
    {
      "cell_type": "code",
      "metadata": {
        "id": "XvGrn3d0UrlL",
        "colab_type": "code",
        "outputId": "71cffe22-29c9-4207-b467-9d2b39cc9aa2",
        "colab": {
          "base_uri": "https://localhost:8080/",
          "height": 68
        }
      },
      "source": [
        "#Step 2\n",
        "# we will train it on the whole dataset and look at an R-squared score and on the model coefficients. \n",
        "# Note,we are not setting the alpha, it is defined as 1.\n",
        "\n",
        "# Creating lasso object\n",
        "lasso = linear_model.Lasso() \n",
        "\n",
        "#Step 3\n",
        "# Fitting the models\n",
        "lasso.fit(X, y) \n",
        "\n",
        "#Step 4\n",
        "# Print scores, MSE, and coefficients\n",
        "\n",
        "print(\"lasso score:\", lasso.score(X, y)) \n",
        "print(\"lasso MSE:\", mean_squared_error(y, lasso.predict(X))) \n",
        "print(\"lasso coef:\", lasso.coef_)"
      ],
      "execution_count": 0,
      "outputs": [
        {
          "output_type": "stream",
          "text": [
            "lasso score: 0.0\n",
            "lasso MSE: 0.27753701250548485\n",
            "lasso coef: [0. 0. 0. 0. 0. 0. 0. 0. 0. 0. 0. 0.]\n"
          ],
          "name": "stdout"
        }
      ]
    },
    {
      "cell_type": "code",
      "metadata": {
        "id": "s8pVr_HWUrxa",
        "colab_type": "code",
        "outputId": "bc28e8ea-bbb3-4906-9d7b-261e87891a85",
        "colab": {
          "base_uri": "https://localhost:8080/",
          "height": 172
        }
      },
      "source": [
        "#Splitting the data into training and test sets and choose your parameters with GridSearch\n",
        "X_train, X_test, y_train, y_test = train_test_split(X, y, test_size=0.2, random_state=25)\n",
        "parameters = {'alpha': np.concatenate((np.arange(0.1,2,0.1), np.arange(2, 5, 0.5), np.arange(5, 25, 1)))}\n",
        "\n",
        "linear = linear_model.LinearRegression()\n",
        "lasso = linear_model.Lasso() \n",
        "gridlasso = GridSearchCV(lasso, parameters, scoring ='r2') \n",
        "\n",
        "# Fitting models and print the best parameters, R-squared scores, MSE, and coefficients\n",
        "gridlasso.fit(X_train, y_train) \n",
        "linear.fit(X_train, y_train) \n",
        "print(\"lasso best parameters:\", gridlasso.best_params_) \n",
        "print(\"lasso score:\", gridlasso.score(X_test, y_test))\n",
        "print(\"linear score:\", linear.score(X_test, y_test)) \n",
        "print(\"lasso MSE:\", mean_squared_error(y_test, gridlasso.predict(X_test)))\n",
        "print(\"linear MSE:\", mean_squared_error(y_test, linear.predict(X_test))) \n",
        "print(\"lasso best estimator coef:\", gridlasso.best_estimator_.coef_)\n",
        "print(\"linear coef:\", linear.coef_)"
      ],
      "execution_count": 0,
      "outputs": [
        {
          "output_type": "stream",
          "text": [
            "lasso best parameters: {'alpha': 0.1}\n",
            "lasso score: 0.4795594742252134\n",
            "linear score: 0.6518397911983334\n",
            "lasso MSE: 0.14418802730270713\n",
            "linear MSE: 0.09645777222609005\n",
            "lasso best estimator coef: [ 0.          0.00103368  0.          0.          0.00207688  0.\n",
            "  0.22181649  0.01520951 -0.          0.          0.06406755  0.        ]\n",
            "linear coef: [-0.00559202  0.07996633  0.0735191   0.02797383  0.02942621  0.0268219\n",
            "  0.26942638  0.06039635 -0.16472455  0.00472032  0.10295874 -0.00136058]\n"
          ],
          "name": "stdout"
        }
      ]
    },
    {
      "cell_type": "code",
      "metadata": {
        "id": "pvYfKjRYUr-3",
        "colab_type": "code",
        "outputId": "2d6513c6-8dd6-463d-c239-e96e4a62e3ab",
        "colab": {
          "base_uri": "https://localhost:8080/",
          "height": 582
        }
      },
      "source": [
        "coefsLasso = [] \n",
        "\n",
        "# Building Lasso for 200 values of alpha and write the coefficients into array\n",
        "# \n",
        "alphasLasso = np.arange (0, 20, 0.1) \n",
        "for i in range(200):\n",
        "    lasso = linear_model.Lasso(alpha=alphasLasso[i])\n",
        "    lasso.fit(X_train, y_train)\n",
        "    coefsLasso.append(lasso.coef_) \n",
        "\n",
        "# Building Lasso coefficient plots\n",
        "# \n",
        "plt.figure(figsize = (16,7))\n",
        "\n",
        "plt.subplot(121)\n",
        "plt.plot(alphasLasso, coefsLasso)\n",
        "plt.title('Lasso coefficients')\n",
        "plt.xlabel('alpha')\n",
        "plt.ylabel('coefs')\n",
        "\n",
        "plt.show()"
      ],
      "execution_count": 0,
      "outputs": [
        {
          "output_type": "stream",
          "text": [
            "/usr/local/lib/python3.6/dist-packages/ipykernel_launcher.py:8: UserWarning: With alpha=0, this algorithm does not converge well. You are advised to use the LinearRegression estimator\n",
            "  \n",
            "/usr/local/lib/python3.6/dist-packages/sklearn/linear_model/_coordinate_descent.py:476: UserWarning: Coordinate descent with no regularization may lead to unexpected results and is discouraged.\n",
            "  positive)\n",
            "/usr/local/lib/python3.6/dist-packages/sklearn/linear_model/_coordinate_descent.py:476: ConvergenceWarning: Objective did not converge. You might want to increase the number of iterations. Duality gap: 842.8101283735972, tolerance: 0.4799029962840905\n",
            "  positive)\n"
          ],
          "name": "stderr"
        },
        {
          "output_type": "display_data",
          "data": {
            "image/png": "[encoded data removed]",
            "text/plain": [
              "<Figure size 1152x504 with 1 Axes>"
            ]
          },
          "metadata": {
            "tags": []
          }
        }
      ]
    },
    {
      "cell_type": "markdown",
      "metadata": {
        "id": "ZTSkbBXfLkVF",
        "colab_type": "text"
      },
      "source": [
        "The model complexity increased with very little increase in the values of alpha then decreased.\n",
        "\n",
        "The line at 0.0 is alarming thus we should  check the coefficients if there is high sparsity"
      ]
    },
    {
      "cell_type": "code",
      "metadata": {
        "id": "5tqVSOscL9N3",
        "colab_type": "code",
        "colab": {}
      },
      "source": [
        ""
      ],
      "execution_count": 0,
      "outputs": []
    },
    {
      "cell_type": "markdown",
      "metadata": {
        "id": "EMKfzpdzL-Me",
        "colab_type": "text"
      },
      "source": [
        "**Elastic Net Regression**"
      ]
    },
    {
      "cell_type": "markdown",
      "metadata": {
        "id": "acF0DtScNqpA",
        "colab_type": "text"
      },
      "source": [
        "Elastic-net is a mix of both L1 and L2 regularizations.\n",
        "\n",
        "This regression combines the power of ridge and lasso regression into one algorithm. What this means is that with elastic net the algorithm can remove weak variables altogether as with lasso or to reduce them to close to zero as with ridge. "
      ]
    },
    {
      "cell_type": "code",
      "metadata": {
        "id": "HGpTi27QZFmA",
        "colab_type": "code",
        "outputId": "380e9d88-8038-4f39-ff40-937aa4cc9962",
        "colab": {
          "base_uri": "https://localhost:8080/",
          "height": 34
        }
      },
      "source": [
        "# Creating our linear regression model for the purpose of comparison\n",
        "# \n",
        "regression=LinearRegression()\n",
        "regression.fit(X,y)\n",
        "first_model=(mean_squared_error(y_true=y,y_pred=regression.predict(X)))\n",
        "print(first_model)"
      ],
      "execution_count": 124,
      "outputs": [
        {
          "output_type": "stream",
          "text": [
            "0.09728755770798712\n"
          ],
          "name": "stdout"
        }
      ]
    },
    {
      "cell_type": "markdown",
      "metadata": {
        "id": "hoiu8EXWZxcc",
        "colab_type": "text"
      },
      "source": [
        "This mean standard error score of 0.097 is our benchmark for determining \n",
        "\n",
        " if the elastic net model will be better or worst"
      ]
    },
    {
      "cell_type": "code",
      "metadata": {
        "id": "t1pVPes_aBIO",
        "colab_type": "code",
        "outputId": "37da94ef-bcc5-49ea-de9a-342d37c17db6",
        "colab": {
          "base_uri": "https://localhost:8080/",
          "height": 224
        }
      },
      "source": [
        "# Below are the coefficients of this first model. We use a for loop to go through \n",
        "# the model and the zip function to combine the two columns.\n",
        "# \n",
        "coef_dict_baseline = {}\n",
        "for coef, feat in zip(elastic.coef_,final_df1.columns):\n",
        "    coef_dict_baseline[feat] = coef\n",
        "coef_dict_baseline"
      ],
      "execution_count": 130,
      "outputs": [
        {
          "output_type": "execute_result",
          "data": {
            "text/plain": [
              "{'bathrooms': 0.06830509158321121,\n",
              " 'bedrooms': 0.07803019596782428,\n",
              " 'condition': 0.24804195160155348,\n",
              " 'floors': 0.030002669422968923,\n",
              " 'grade': 0.05827805088343515,\n",
              " 'price': -0.0,\n",
              " 'sqft_basement': -0.14629768667595508,\n",
              " 'sqft_living15': -0.0,\n",
              " 'view': 0.027661525065563318,\n",
              " 'waterfront': 0.032781298990026665,\n",
              " 'yr_built': 0.009633993449373919,\n",
              " 'yr_renovated': 0.10696478375242106}"
            ]
          },
          "metadata": {
            "tags": []
          },
          "execution_count": 130
        }
      ]
    },
    {
      "cell_type": "code",
      "metadata": {
        "id": "G-Isnj-NOA4m",
        "colab_type": "code",
        "colab": {}
      },
      "source": [
        "#  set inside the ElasticNet function. \n",
        "# The second thing we need to do is create our grid.\n",
        "# \n",
        "elastic=ElasticNet(normalize=True)\n",
        "search=GridSearchCV(estimator=elastic,param_grid={'alpha':np.logspace(-5,2,8),'l1_ratio':[.2,.4,.6,.8]},scoring='neg_mean_squared_error',n_jobs=1,refit=True,cv=10)"
      ],
      "execution_count": 0,
      "outputs": []
    },
    {
      "cell_type": "code",
      "metadata": {
        "id": "q7YHIiy9N9jk",
        "colab_type": "code",
        "outputId": "67e4cfab-2fc4-48ca-fab4-660bfb852892",
        "colab": {
          "base_uri": "https://localhost:8080/",
          "height": 34
        }
      },
      "source": [
        "# We will now fit our model and display the best parameters and the best results we can get with that setup.\n",
        "# \n",
        "search.fit(X,y)\n",
        "search.best_params_\n",
        "abs(search.best_score_)"
      ],
      "execution_count": 126,
      "outputs": [
        {
          "output_type": "execute_result",
          "data": {
            "text/plain": [
              "0.09834647625984126"
            ]
          },
          "metadata": {
            "tags": []
          },
          "execution_count": 126
        }
      ]
    },
    {
      "cell_type": "code",
      "metadata": {
        "id": "W6xvHAuyUsN6",
        "colab_type": "code",
        "outputId": "4c537ae2-3add-4799-c2e1-b29408631e46",
        "colab": {
          "base_uri": "https://localhost:8080/",
          "height": 34
        }
      },
      "source": [
        "# The best hyperparameters was an alpha set to 0.00001 and a l1_ratio of 0.8. \n",
        "# With these settings we got an MSE of 0.0983.  \n",
        "# Which means that elastic net is doing worse than linear regression. \n",
        "# For clarity, we will set our hyperparameters to the recommended values and run on the data.\n",
        "# \n",
        "elastic=ElasticNet(normalize=True,alpha=1e-05, l1_ratio=0.8)\n",
        "elastic.fit(X,y)\n",
        "second_model=(mean_squared_error(y_true=y,y_pred=elastic.predict(X)))\n",
        "print(second_model)"
      ],
      "execution_count": 127,
      "outputs": [
        {
          "output_type": "stream",
          "text": [
            "0.09770469390529675\n"
          ],
          "name": "stdout"
        }
      ]
    },
    {
      "cell_type": "code",
      "metadata": {
        "id": "_k1ZGQbwUsgO",
        "colab_type": "code",
        "outputId": "26b474ee-c94c-4b93-e7ec-0072dd49c968",
        "colab": {
          "base_uri": "https://localhost:8080/",
          "height": 224
        }
      },
      "source": [
        "# Below are the coefficients\n",
        " \n",
        "coef_dict_baseline = {}\n",
        "for coef, feat in zip(elastic.coef_,final_df1.columns):\n",
        "    coef_dict_baseline[feat] = coef\n",
        "coef_dict_baseline\n"
      ],
      "execution_count": 128,
      "outputs": [
        {
          "output_type": "execute_result",
          "data": {
            "text/plain": [
              "{'bathrooms': 0.06830509158321121,\n",
              " 'bedrooms': 0.07803019596782428,\n",
              " 'condition': 0.24804195160155348,\n",
              " 'floors': 0.030002669422968923,\n",
              " 'grade': 0.05827805088343515,\n",
              " 'price': -0.0,\n",
              " 'sqft_basement': -0.14629768667595508,\n",
              " 'sqft_living15': -0.0,\n",
              " 'view': 0.027661525065563318,\n",
              " 'waterfront': 0.032781298990026665,\n",
              " 'yr_built': 0.009633993449373919,\n",
              " 'yr_renovated': 0.10696478375242106}"
            ]
          },
          "metadata": {
            "tags": []
          },
          "execution_count": 128
        }
      ]
    },
    {
      "cell_type": "markdown",
      "metadata": {
        "id": "0z_CxxHah49W",
        "colab_type": "text"
      },
      "source": [
        "The coefficients are mostly the same. \n",
        "\n",
        "Notice that price and sqft_living15 was completely removed from the model in the elastic net version. \n",
        "\n",
        "This means that this values was no good to the algorithm. Traditional regression cannot do this.\n",
        "\n"
      ]
    },
    {
      "cell_type": "markdown",
      "metadata": {
        "id": "fhQ-N0ZvTx06",
        "colab_type": "text"
      },
      "source": [
        "**Future questions**\n",
        "\n",
        "1.Which models provide better accuracy for price prediction?\n",
        "\n",
        "2.Did the nature of the data bias the prediction output since most houses are pricey?\n",
        "\n",
        "\n",
        "**Possible Solutions**\n",
        "\n",
        "1.Drop anomalies such as outliers to depict better accuracy results of the model\n",
        "\n",
        "2.Get data which has widespread variety of prices to avoid biasness of prediction results.\n",
        "\n"
      ]
    }
  ]
}